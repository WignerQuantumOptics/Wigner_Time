{
 "cells": [
  {
   "cell_type": "code",
   "execution_count": 1,
   "id": "9b293788-6989-44fc-bb61-a46a8dda38e8",
   "metadata": {},
   "outputs": [],
   "source": [
    "import sys; sys.path.extend([\"..\"])\n",
    "\n",
    "import pandas as pd\n",
    "import numpy as np\n",
    "import matplotlib.pyplot as plt\n",
    "\n",
    "from wigner_time import timeline as tl\n",
    "from wigner_time import display as dp\n",
    "from wigner_time import adwin as ad\n",
    "import wigner_time, pickle\n",
    "\n",
    "import experimentDemo as ex\n",
    "import diagnosticsDemo as di\n",
    "\n",
    "%matplotlib qt"
   ]
  },
  {
   "cell_type": "markdown",
   "id": "e88d5181-643e-4920-b95d-db4b772aefa4",
   "metadata": {},
   "source": [
    "preparing sample and interweaving the absorption imaging anchored to the end of the optical pumping stage"
   ]
  },
  {
   "cell_type": "code",
   "execution_count": 2,
   "id": "e74aa3db-00d7-456f-95ee-e82b343e4cdf",
   "metadata": {},
   "outputs": [],
   "source": [
    "timeline=di.imaging_absorption(5e-3,300e-6,context=\"AI\",\n",
    "                               origin=\"OP\", # this says that the time of absorption imaging is relative to the anchor of context \"OP\", that is, the end of the optical pumping stage\n",
    "                               timeline=di.prepareSample(stage=ex.Stage.OP,MOT_duration=1,initFunction=di.init,finishFunction=di.finish)\n",
    "                              )"
   ]
  },
  {
   "cell_type": "code",
   "execution_count": 3,
   "id": "d7e49b18-4ad3-43b5-8486-c12bff7f99d4",
   "metadata": {
    "scrolled": true
   },
   "outputs": [
    {
     "data": {
      "text/plain": [
       "(<Figure size 750x750 with 5 Axes>,\n",
       " array([<Axes: ylabel='Voltage [V]'>, <Axes: ylabel='Current [A]'>,\n",
       "        <Axes: ylabel='Frequency [MHz]'>,\n",
       "        <Axes: ylabel='Digital channels'>], dtype=object))"
      ]
     },
     "execution_count": 3,
     "metadata": {},
     "output_type": "execute_result"
    }
   ],
   "source": [
    "dp.display(tl.expand(timeline,\n",
    "                     # prepareSampleStageSelect(stage=Stage.OP,MOT_duration=1),\n",
    "                     time_resolution=25e-6))"
   ]
  },
  {
   "cell_type": "markdown",
   "id": "9ee6d3a0-f728-4ae5-8769-73ae88077142",
   "metadata": {},
   "source": [
    "`prepare_atoms` is equivalent to stacking the different stages, like this (this time until the end of magnetic trapping):"
   ]
  },
  {
   "cell_type": "code",
   "execution_count": 4,
   "id": "d27d729c-3a2e-430b-83f8-c1e21bb44267",
   "metadata": {},
   "outputs": [],
   "source": [
    "timeline=tl.stack(\n",
    "    di.init(),\n",
    "    ex.MOT(),\n",
    "    ex.MOT_detunedGrowth(),\n",
    "    ex.molasses(),\n",
    "    ex.OP(),\n",
    "    ex.magneticTrapping(),\n",
    "    ex.pull_coils(50e-3,-4.1,-4.7,-0.6,-0.6),\n",
    "    ex.finish()\n",
    ")\n",
    "\n",
    "timeline=di.imaging_absorption(2.5e-3,300e-6,origin=\"magneticTrapping\",context=\"AI\",timeline=timeline)"
   ]
  },
  {
   "cell_type": "markdown",
   "id": "fe3e4fc1-87b3-4006-aa7b-762788b0ad1f",
   "metadata": {},
   "source": [
    "`timeline` is simply a `pandas.DataFrame`:"
   ]
  },
  {
   "cell_type": "code",
   "execution_count": null,
   "id": "ca788d7b-7c73-4356-9d2f-209639c1730f",
   "metadata": {},
   "outputs": [],
   "source": [
    "# pd.options.display.max_rows = 10_000\n",
    "timeline"
   ]
  },
  {
   "cell_type": "markdown",
   "id": "b868e758-62f0-463d-8934-602e850f0f95",
   "metadata": {},
   "source": [
    "Notice that the above `timeline` contains the ramps in “compressed” form, that is, simply as functionals.\n",
    "\n",
    "Ramps can be expanded with the following function:"
   ]
  },
  {
   "cell_type": "code",
   "execution_count": 6,
   "id": "a18ad43c-bc28-49de-852b-c37972efd193",
   "metadata": {
    "scrolled": true
   },
   "outputs": [
    {
     "data": {
      "text/html": [
       "<div>\n",
       "<style scoped>\n",
       "    .dataframe tbody tr th:only-of-type {\n",
       "        vertical-align: middle;\n",
       "    }\n",
       "\n",
       "    .dataframe tbody tr th {\n",
       "        vertical-align: top;\n",
       "    }\n",
       "\n",
       "    .dataframe thead th {\n",
       "        text-align: right;\n",
       "    }\n",
       "</style>\n",
       "<table border=\"1\" class=\"dataframe\">\n",
       "  <thead>\n",
       "    <tr style=\"text-align: right;\">\n",
       "      <th></th>\n",
       "      <th>time</th>\n",
       "      <th>variable</th>\n",
       "      <th>value</th>\n",
       "      <th>context</th>\n",
       "    </tr>\n",
       "  </thead>\n",
       "  <tbody>\n",
       "    <tr>\n",
       "      <th>0</th>\n",
       "      <td>-0.000001</td>\n",
       "      <td>lockbox_MOT__MHz</td>\n",
       "      <td>0.000000</td>\n",
       "      <td>ADwin_LowInit</td>\n",
       "    </tr>\n",
       "    <tr>\n",
       "      <th>1</th>\n",
       "      <td>-0.000001</td>\n",
       "      <td>coil_compensationX__A</td>\n",
       "      <td>0.250000</td>\n",
       "      <td>ADwin_LowInit</td>\n",
       "    </tr>\n",
       "    <tr>\n",
       "      <th>2</th>\n",
       "      <td>-0.000001</td>\n",
       "      <td>coil_compensationY__A</td>\n",
       "      <td>1.500000</td>\n",
       "      <td>ADwin_LowInit</td>\n",
       "    </tr>\n",
       "    <tr>\n",
       "      <th>3</th>\n",
       "      <td>-0.000001</td>\n",
       "      <td>coil_MOTlowerPlus__A</td>\n",
       "      <td>0.100000</td>\n",
       "      <td>ADwin_LowInit</td>\n",
       "    </tr>\n",
       "    <tr>\n",
       "      <th>4</th>\n",
       "      <td>-0.000001</td>\n",
       "      <td>coil_MOTupperPlus__A</td>\n",
       "      <td>-0.100000</td>\n",
       "      <td>ADwin_LowInit</td>\n",
       "    </tr>\n",
       "    <tr>\n",
       "      <th>...</th>\n",
       "      <td>...</td>\n",
       "      <td>...</td>\n",
       "      <td>...</td>\n",
       "      <td>...</td>\n",
       "    </tr>\n",
       "    <tr>\n",
       "      <th>59136</th>\n",
       "      <td>16.118160</td>\n",
       "      <td>coil_MOTupperPlus__A</td>\n",
       "      <td>-0.100036</td>\n",
       "      <td>finalRamps</td>\n",
       "    </tr>\n",
       "    <tr>\n",
       "      <th>59137</th>\n",
       "      <td>16.118165</td>\n",
       "      <td>coil_MOTupperPlus__A</td>\n",
       "      <td>-0.100027</td>\n",
       "      <td>finalRamps</td>\n",
       "    </tr>\n",
       "    <tr>\n",
       "      <th>59138</th>\n",
       "      <td>16.118170</td>\n",
       "      <td>coil_MOTupperPlus__A</td>\n",
       "      <td>-0.100018</td>\n",
       "      <td>finalRamps</td>\n",
       "    </tr>\n",
       "    <tr>\n",
       "      <th>59139</th>\n",
       "      <td>16.118175</td>\n",
       "      <td>coil_MOTupperPlus__A</td>\n",
       "      <td>-0.100009</td>\n",
       "      <td>finalRamps</td>\n",
       "    </tr>\n",
       "    <tr>\n",
       "      <th>59140</th>\n",
       "      <td>16.118180</td>\n",
       "      <td>coil_MOTupperPlus__A</td>\n",
       "      <td>-0.100000</td>\n",
       "      <td>finalRamps</td>\n",
       "    </tr>\n",
       "  </tbody>\n",
       "</table>\n",
       "<p>59141 rows × 4 columns</p>\n",
       "</div>"
      ],
      "text/plain": [
       "            time               variable     value        context\n",
       "0      -0.000001       lockbox_MOT__MHz  0.000000  ADwin_LowInit\n",
       "1      -0.000001  coil_compensationX__A  0.250000  ADwin_LowInit\n",
       "2      -0.000001  coil_compensationY__A  1.500000  ADwin_LowInit\n",
       "3      -0.000001   coil_MOTlowerPlus__A  0.100000  ADwin_LowInit\n",
       "4      -0.000001   coil_MOTupperPlus__A -0.100000  ADwin_LowInit\n",
       "...          ...                    ...       ...            ...\n",
       "59136  16.118160   coil_MOTupperPlus__A -0.100036     finalRamps\n",
       "59137  16.118165   coil_MOTupperPlus__A -0.100027     finalRamps\n",
       "59138  16.118170   coil_MOTupperPlus__A -0.100018     finalRamps\n",
       "59139  16.118175   coil_MOTupperPlus__A -0.100009     finalRamps\n",
       "59140  16.118180   coil_MOTupperPlus__A -0.100000     finalRamps\n",
       "\n",
       "[59141 rows x 4 columns]"
      ]
     },
     "execution_count": 6,
     "metadata": {},
     "output_type": "execute_result"
    }
   ],
   "source": [
    "tl.expand(timeline,time_resolution=5e-6)"
   ]
  },
  {
   "cell_type": "code",
   "execution_count": 7,
   "id": "7bf33890-6095-45b2-b378-8bc443876139",
   "metadata": {
    "scrolled": true
   },
   "outputs": [
    {
     "data": {
      "text/plain": [
       "(<Figure size 750x750 with 5 Axes>,\n",
       " array([<Axes: ylabel='Voltage [V]'>, <Axes: ylabel='Current [A]'>,\n",
       "        <Axes: ylabel='Frequency [MHz]'>,\n",
       "        <Axes: ylabel='Digital channels'>], dtype=object))"
      ]
     },
     "execution_count": 7,
     "metadata": {},
     "output_type": "execute_result"
    }
   ],
   "source": [
    "#dp.display(timeline)\n",
    "dp.display(tl.expand(timeline,time_resolution=5e-6))"
   ]
  },
  {
   "cell_type": "markdown",
   "id": "9882243b-d694-4af8-a2f4-930df062e630",
   "metadata": {},
   "source": [
    "This would be the way to create the data that can be transferred to ADwin:"
   ]
  },
  {
   "cell_type": "code",
   "execution_count": null,
   "id": "bab55622-d219-4c6a-ad35-5c78cc6a9760",
   "metadata": {
    "scrolled": true
   },
   "outputs": [],
   "source": [
    "ad.core.to_data(timeline,ex.connections,ex.devices)"
   ]
  }
 ],
 "metadata": {
  "kernelspec": {
   "display_name": "Python 3 (ipykernel)",
   "language": "python",
   "name": "python3"
  },
  "language_info": {
   "codemirror_mode": {
    "name": "ipython",
    "version": 3
   },
   "file_extension": ".py",
   "mimetype": "text/x-python",
   "name": "python",
   "nbconvert_exporter": "python",
   "pygments_lexer": "ipython3",
   "version": "3.13.2"
  }
 },
 "nbformat": 4,
 "nbformat_minor": 5
}
