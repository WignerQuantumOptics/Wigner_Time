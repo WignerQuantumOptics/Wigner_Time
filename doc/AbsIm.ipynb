{
 "cells": [
  {
   "cell_type": "code",
   "execution_count": 95,
   "id": "de56a840-0a6d-4d75-bc31-f07e764611f8",
   "metadata": {},
   "outputs": [],
   "source": [
    "def OP(durationExposition=80e-6, durationCoilRamp=500e-6, i=-0.12, pt=3, timeline=None, time=None, **kwargs\n",
    "      ) :\n",
    "    if timeline is None :\n",
    "        return lambda x : OP(durationExposition,durationCoilRamp,i,pt,x,time,**kwargs)\n",
    "\n",
    "    fullDuration=durationCoilRamp+durationExposition\n",
    "    if time is None : time=tl.previous_time(timeline)\n",
    "    print(\"here!!!\",time)\n",
    "    return tl.stack(\n",
    "        timeline,\n",
    "        tl.next(\n",
    "            coil_MOTlower__A= i,\n",
    "            coil_MOTupper__A=-i,\n",
    "            time_start=time,\n",
    "            t=durationCoilRamp,\n",
    "            fargs={\"ti\": pt},\n",
    "            context=\"OP\",**kwargs\n",
    "        ),\n",
    "        tl.set(\n",
    "            \"AOM_OP\",[[time+durationCoilRamp,1],[time+fullDuration,0]]\n",
    "        ),\n",
    "        tl.set(AOM_repump=0,shutter_repump=0,t=time+fullDuration)\n",
    "        #     # I switch off the AOM close before opening the first shutter, but safely enough, not to flash too soon\n",
    "        #     [\n",
    "        #         \"shutter_OP001\",\n",
    "        #         [ time - constants.OP.lag_aom_on - constants.safety_factor * (constants.OP.lag_shutter_on + constants.OP.duration_shutter_on), 1 ],\n",
    "        #     ],\n",
    "        #     [\n",
    "        #         \"AOM_OP\",\n",
    "        #         [time - constants.OP.lag_aom_on + 9.5e-6, 1], #TODO: what is this constant?????\n",
    "        #     ],\n",
    "        #     [\n",
    "        #         \"shutter_OP002\",\n",
    "        #         [ time + duration_exposure - (2 - constants.safety_factor) * constants.OP.lag_shutter_off, 0 ],\n",
    "        #     ],\n",
    "        #     [\"AOM_OP\", [ time+duration_exposure + 0.5e-6, 0 ] ], # TODO: another mysterious constant\n",
    "        #     [\"AOM_repump\", [ time+duration_exposure, 0 ] ],\n",
    "        #     [\"shutter_repump\", [ time+duration_exposure, 0 ] ],\n",
    "        #     # Shutters switched back, to reinitialize them before any additional optical pumpings later.\n",
    "        #     [\"shutter_OP001\", [ time+duration_exposure, 0 ] ],\n",
    "        #     [\"shutter_OP002\", [ time+duration_exposure + constants.safety_factor * (constants.OP.lag_shutter_on+constants.OP.duration_shutter_on), 1 ] ],\n",
    "        #     context=context,\n",
    "        #     timeline=tline,\n",
    "        ),\n"
   ]
  },
  {
   "cell_type": "code",
   "execution_count": 39,
   "id": "1eb0da04-af48-4693-8cc5-77b82f9e75bb",
   "metadata": {},
   "outputs": [],
   "source": [
    "exposure=0.002"
   ]
  },
  {
   "cell_type": "code",
   "execution_count": 104,
   "id": "8a6090d1-98d3-4059-98cc-a98e264e3543",
   "metadata": {
    "scrolled": true
   },
   "outputs": [],
   "source": [
    "timeline=tl.stack(\n",
    "    init(t=-2,shutter_imaging=0,AOM_imaging=1,trigger_camera=0),\n",
    "    MOT(t=0.0),\n",
    "    MOT_detunedGrowth(),\n",
    "    tl.set(AOM_OP=0),\n",
    "    molasses(),\n",
    "#    OP(),\n",
    "#    expose_camera(15.106,exposure),\n",
    "#    tl.wait(100e-6),\n",
    "    magneticTrapping(),\n",
    "    tl.wait(5e-3),\n",
    "    pull_coils(1e-3,0.,0.),\n",
    "    imaging_absorption(15.117,exposure,exposureBlow=1,delayBg=200e-3,delayLi=3),\n",
    "    tl.wait(1),\n",
    "    tl.next(\n",
    "        lockbox_MOT__MHz=0,\n",
    "        coil_MOTlower__A=-1.0,\n",
    "        coil_MOTupper__A=-0.98,\n",
    "        t=.1,\n",
    "        fargs={\"ti\": 3},context='sanitize'\n",
    "    ),\n",
    "    tl.set(AOM_MOT=1,AOM_repump=1,AOM_imaging=1)\n",
    ")#)"
   ]
  },
  {
   "cell_type": "code",
   "execution_count": 105,
   "id": "c67808e1-7f19-4a22-967a-11c5e1b64dc5",
   "metadata": {},
   "outputs": [],
   "source": [
    "tl.display(timeline)"
   ]
  },
  {
   "cell_type": "code",
   "execution_count": 111,
   "id": "0f8fedab-0ee1-4c2f-afbd-abf7e798ebaa",
   "metadata": {},
   "outputs": [],
   "source": [
    "timeline=tl.stack(\n",
    "    init(t=-2,shutter_imaging=0,AOM_imaging=1,trigger_camera=0),\n",
    "    MOT(t=0.0),\n",
    ")"
   ]
  },
  {
   "cell_type": "code",
   "execution_count": 112,
   "id": "9f9571cb-14ee-4d5b-b635-2d1897201f43",
   "metadata": {
    "scrolled": true
   },
   "outputs": [],
   "source": [
    "output=adwin.output(adwin.add(timeline,connections,devices))"
   ]
  },
  {
   "cell_type": "code",
   "execution_count": 113,
   "id": "7ec81a64-96ac-424c-968e-3d936ffea0c3",
   "metadata": {},
   "outputs": [
    {
     "name": "stdout",
     "output_type": "stream",
     "text": [
      "time_end: 0.0s\n"
     ]
    }
   ],
   "source": [
    "m = ADwin.ADwin(1)\n",
    "m = adwin.initialize_ADwin(m, output)"
   ]
  },
  {
   "cell_type": "code",
   "execution_count": 108,
   "id": "07db06d5-5536-4df0-8856-4a47a23f3c63",
   "metadata": {
    "scrolled": true
   },
   "outputs": [
    {
     "name": "stdout",
     "output_type": "stream",
     "text": [
      "INITIAL VALUES\n",
      "fps: 0.0\n",
      "Available fps range: [0.9472267726036225, 59.82267300297225]\n",
      "Pixelclock: 84\n",
      "Exposition time: 19.25361403508772 ms\n",
      "Warning: when changing pixelclock at runtime, you may need to update the fps and exposure parameters\n",
      "Warning: Specified fps (60.00) not in possible range: [0.95, 59.82]. fps has been set to 59.82.\n",
      "AOI: <pypyueye.utils.Rect object at 0x000001B9E9E82350>\n",
      "\n",
      "MODIFIED VALUES\n",
      "fps: 59.822673002972245\n",
      "Available fps range: [0.9472267726036225, 59.82267300297225]\n",
      "Pixelclock: 86\n",
      "Exposition time: 1.9998596491228071 ms\n",
      "\n",
      "AFTER CAPTURE VALUES\n",
      "Framerate: 59.822673002972245\n",
      "Frame range: 0.9472267726036225, 59.82267300297225\n",
      "AOI:1024,1280\n"
     ]
    }
   ],
   "source": [
    "image=take_image_absorption_camera(m, processNo=1,nmb_ims=4,CameraExposureTime_s=exposure,print_log=True)"
   ]
  },
  {
   "cell_type": "code",
   "execution_count": 109,
   "id": "85c4ee90-ccde-40e9-9d58-a2a49c168f7f",
   "metadata": {},
   "outputs": [
    {
     "name": "stderr",
     "output_type": "stream",
     "text": [
      "C:\\Users\\User\\AppData\\Local\\Temp\\ipykernel_3356\\4227516746.py:1: RuntimeWarning: divide by zero encountered in divide\n",
      "  absIm=np.log((ab.replaceNaNwith0(image[2])-ab.replaceNaNwith0(image[3]))/(ab.replaceNaNwith0(image[0])-ab.replaceNaNwith0(image[1])))[0:600,670:1200]\n",
      "C:\\Users\\User\\AppData\\Local\\Temp\\ipykernel_3356\\4227516746.py:1: RuntimeWarning: invalid value encountered in divide\n",
      "  absIm=np.log((ab.replaceNaNwith0(image[2])-ab.replaceNaNwith0(image[3]))/(ab.replaceNaNwith0(image[0])-ab.replaceNaNwith0(image[1])))[0:600,670:1200]\n",
      "C:\\Users\\User\\AppData\\Local\\Temp\\ipykernel_3356\\4227516746.py:1: RuntimeWarning: divide by zero encountered in log\n",
      "  absIm=np.log((ab.replaceNaNwith0(image[2])-ab.replaceNaNwith0(image[3]))/(ab.replaceNaNwith0(image[0])-ab.replaceNaNwith0(image[1])))[0:600,670:1200]\n",
      "C:\\Users\\User\\AppData\\Local\\Temp\\ipykernel_3356\\4227516746.py:1: RuntimeWarning: invalid value encountered in log\n",
      "  absIm=np.log((ab.replaceNaNwith0(image[2])-ab.replaceNaNwith0(image[3]))/(ab.replaceNaNwith0(image[0])-ab.replaceNaNwith0(image[1])))[0:600,670:1200]\n"
     ]
    }
   ],
   "source": [
    "absIm=np.log((ab.replaceNaNwith0(image[2])-ab.replaceNaNwith0(image[3]))/(ab.replaceNaNwith0(image[0])-ab.replaceNaNwith0(image[1])))[0:600,670:1200]"
   ]
  },
  {
   "cell_type": "code",
   "execution_count": 110,
   "id": "8615a95d-06c6-4f70-880d-854af4434fcd",
   "metadata": {},
   "outputs": [],
   "source": [
    "plt.figure()\n",
    "plt.imshow(absIm, interpolation='None',cmap=\"viridis\")\n",
    "plt.colorbar()\n",
    "plt.grid(False)"
   ]
  },
  {
   "cell_type": "code",
   "execution_count": 291,
   "id": "980b3c4a-7df4-45fc-bbc5-a4fac90a26f6",
   "metadata": {},
   "outputs": [],
   "source": [
    "delay = np.arange(0, 11e-3, 1e-3)\n",
    "timeline = []\n",
    "\n",
    "timeline_prepare = tl.stack(\n",
    "    init(t=-2,shutter_imaging=0,AOM_imaging=1,trigger_camera=0),\n",
    "    MOT(t=0.0),\n",
    "    MOT_detunedGrowth(),\n",
    "    molasses(),\n",
    "    tl.set(AOM_repump=0,shutter_repump=0,AOM_imaging=0)\n",
    ")#)\n",
    "\n",
    "for d in delay:\n",
    "    timeline.append(\n",
    "        tl.stack(\n",
    "            timeline_prepare,\n",
    "            tl.set(AOM_repump=0,shutter_repump=0,AOM_imaging=0),\n",
    "            #    expose_camera(15.106,exposure),\n",
    "            imaging_absorption(15.106+d,exposure,exposureBlow=1,delayBg=200e-3,delayLi=3),\n",
    "            tl.wait(1),\n",
    "            tl.next(\n",
    "                lockbox_MOT__MHz=0,\n",
    "                coil_MOTlower__A=-1.0,\n",
    "                coil_MOTupper__A=-0.98,\n",
    "                t=.1,\n",
    "                fargs={\"ti\": 3},context='sanitize'\n",
    "            ),\n",
    "            tl.set(AOM_MOT=1,AOM_repump=1,AOM_imaging=1)\n",
    "        )\n",
    "    )"
   ]
  },
  {
   "cell_type": "code",
   "execution_count": 292,
   "id": "7d426f2e-5ec8-46fb-8430-26e2e03a4f20",
   "metadata": {},
   "outputs": [],
   "source": [
    "tl.display(timeline[10])"
   ]
  },
  {
   "cell_type": "code",
   "execution_count": 296,
   "id": "b6a2aa06-5b27-4f3a-b47f-055afb6dc5b5",
   "metadata": {
    "scrolled": true
   },
   "outputs": [
    {
     "name": "stdout",
     "output_type": "stream",
     "text": [
      "time_end: 19.4082s\n",
      "INITIAL VALUES\n",
      "fps: 0.0\n",
      "Available fps range: [0.9472267726036225, 59.82267300297225]\n",
      "Pixelclock: 84\n",
      "Exposition time: 19.25361403508772 ms\n",
      "Warning: when changing pixelclock at runtime, you may need to update the fps and exposure parameters\n",
      "Warning: Specified fps (60.00) not in possible range: [0.95, 59.82]. fps has been set to 59.82.\n",
      "AOI: <pypyueye.utils.Rect object at 0x00000252058640D0>\n",
      "\n",
      "MODIFIED VALUES\n",
      "fps: 59.822673002972245\n",
      "Available fps range: [0.9472267726036225, 59.82267300297225]\n",
      "Pixelclock: 86\n",
      "Exposition time: 1.9998596491228071 ms\n",
      "\n",
      "AFTER CAPTURE VALUES\n",
      "Framerate: 59.822673002972245\n",
      "Frame range: 0.9472267726036225, 59.82267300297225\n",
      "AOI:1024,1280\n",
      "time_end: 19.409200000000002s\n",
      "INITIAL VALUES\n",
      "fps: 0.0\n",
      "Available fps range: [0.9472267726036225, 59.82267300297225]\n",
      "Pixelclock: 84\n",
      "Exposition time: 19.25361403508772 ms\n",
      "Warning: when changing pixelclock at runtime, you may need to update the fps and exposure parameters\n",
      "Warning: Specified fps (60.00) not in possible range: [0.95, 59.82]. fps has been set to 59.82.\n",
      "AOI: <pypyueye.utils.Rect object at 0x0000025205C104D0>\n",
      "\n",
      "MODIFIED VALUES\n",
      "fps: 59.822673002972245\n",
      "Available fps range: [0.9472267726036225, 59.82267300297225]\n",
      "Pixelclock: 86\n",
      "Exposition time: 1.9998596491228071 ms\n",
      "\n",
      "AFTER CAPTURE VALUES\n",
      "Framerate: 59.822673002972245\n",
      "Frame range: 0.9472267726036225, 59.82267300297225\n",
      "AOI:1024,1280\n",
      "time_end: 19.410200000000003s\n",
      "INITIAL VALUES\n",
      "fps: 0.0\n",
      "Available fps range: [0.9472267726036225, 59.82267300297225]\n",
      "Pixelclock: 84\n",
      "Exposition time: 19.25361403508772 ms\n",
      "Warning: when changing pixelclock at runtime, you may need to update the fps and exposure parameters\n",
      "Warning: Specified fps (60.00) not in possible range: [0.95, 59.82]. fps has been set to 59.82.\n",
      "AOI: <pypyueye.utils.Rect object at 0x00000252054DAFD0>\n",
      "\n",
      "MODIFIED VALUES\n",
      "fps: 59.822673002972245\n",
      "Available fps range: [0.9472267726036225, 59.82267300297225]\n",
      "Pixelclock: 86\n",
      "Exposition time: 1.9998596491228071 ms\n",
      "\n",
      "AFTER CAPTURE VALUES\n",
      "Framerate: 59.822673002972245\n",
      "Frame range: 0.9472267726036225, 59.82267300297225\n",
      "AOI:1024,1280\n",
      "time_end: 19.4112s\n",
      "INITIAL VALUES\n",
      "fps: 0.0\n",
      "Available fps range: [0.9472267726036225, 59.82267300297225]\n",
      "Pixelclock: 84\n",
      "Exposition time: 19.25361403508772 ms\n",
      "Warning: when changing pixelclock at runtime, you may need to update the fps and exposure parameters\n",
      "Warning: Specified fps (60.00) not in possible range: [0.95, 59.82]. fps has been set to 59.82.\n",
      "AOI: <pypyueye.utils.Rect object at 0x0000025205FEFBD0>\n",
      "\n",
      "MODIFIED VALUES\n",
      "fps: 59.822673002972245\n",
      "Available fps range: [0.9472267726036225, 59.82267300297225]\n",
      "Pixelclock: 86\n",
      "Exposition time: 1.9998596491228071 ms\n",
      "\n",
      "AFTER CAPTURE VALUES\n",
      "Framerate: 59.822673002972245\n",
      "Frame range: 0.9472267726036225, 59.82267300297225\n",
      "AOI:1024,1280\n",
      "time_end: 19.412200000000002s\n",
      "INITIAL VALUES\n",
      "fps: 0.0\n",
      "Available fps range: [0.9472267726036225, 59.82267300297225]\n",
      "Pixelclock: 84\n",
      "Exposition time: 19.25361403508772 ms\n",
      "Warning: when changing pixelclock at runtime, you may need to update the fps and exposure parameters\n",
      "Warning: Specified fps (60.00) not in possible range: [0.95, 59.82]. fps has been set to 59.82.\n",
      "AOI: <pypyueye.utils.Rect object at 0x0000025205BF6C50>\n",
      "\n",
      "MODIFIED VALUES\n",
      "fps: 59.822673002972245\n",
      "Available fps range: [0.9472267726036225, 59.82267300297225]\n",
      "Pixelclock: 86\n",
      "Exposition time: 1.9998596491228071 ms\n",
      "\n",
      "AFTER CAPTURE VALUES\n",
      "Framerate: 59.822673002972245\n",
      "Frame range: 0.9472267726036225, 59.82267300297225\n",
      "AOI:1024,1280\n",
      "time_end: 19.413200000000003s\n",
      "INITIAL VALUES\n",
      "fps: 0.0\n",
      "Available fps range: [0.9472267726036225, 59.82267300297225]\n",
      "Pixelclock: 84\n",
      "Exposition time: 19.25361403508772 ms\n",
      "Warning: when changing pixelclock at runtime, you may need to update the fps and exposure parameters\n",
      "Warning: Specified fps (60.00) not in possible range: [0.95, 59.82]. fps has been set to 59.82.\n",
      "AOI: <pypyueye.utils.Rect object at 0x000002526FFCC9D0>\n",
      "\n",
      "MODIFIED VALUES\n",
      "fps: 59.822673002972245\n",
      "Available fps range: [0.9472267726036225, 59.82267300297225]\n",
      "Pixelclock: 86\n",
      "Exposition time: 1.9998596491228071 ms\n",
      "\n",
      "AFTER CAPTURE VALUES\n",
      "Framerate: 59.822673002972245\n",
      "Frame range: 0.9472267726036225, 59.82267300297225\n",
      "AOI:1024,1280\n",
      "time_end: 19.4142s\n",
      "INITIAL VALUES\n",
      "fps: 0.0\n",
      "Available fps range: [0.9472267726036225, 59.82267300297225]\n",
      "Pixelclock: 84\n",
      "Exposition time: 19.25361403508772 ms\n",
      "Warning: when changing pixelclock at runtime, you may need to update the fps and exposure parameters\n",
      "Warning: Specified fps (60.00) not in possible range: [0.95, 59.82]. fps has been set to 59.82.\n",
      "AOI: <pypyueye.utils.Rect object at 0x0000025205FE3050>\n",
      "\n",
      "MODIFIED VALUES\n",
      "fps: 59.822673002972245\n",
      "Available fps range: [0.9472267726036225, 59.82267300297225]\n",
      "Pixelclock: 86\n",
      "Exposition time: 1.9998596491228071 ms\n",
      "\n",
      "AFTER CAPTURE VALUES\n",
      "Framerate: 59.822673002972245\n",
      "Frame range: 0.9472267726036225, 59.82267300297225\n",
      "AOI:1024,1280\n",
      "time_end: 19.415200000000002s\n",
      "INITIAL VALUES\n",
      "fps: 0.0\n",
      "Available fps range: [0.9472267726036225, 59.82267300297225]\n",
      "Pixelclock: 84\n",
      "Exposition time: 19.25361403508772 ms\n",
      "Warning: when changing pixelclock at runtime, you may need to update the fps and exposure parameters\n",
      "Warning: Specified fps (60.00) not in possible range: [0.95, 59.82]. fps has been set to 59.82.\n",
      "AOI: <pypyueye.utils.Rect object at 0x0000025205A4F410>\n",
      "\n",
      "MODIFIED VALUES\n",
      "fps: 59.822673002972245\n",
      "Available fps range: [0.9472267726036225, 59.82267300297225]\n",
      "Pixelclock: 86\n",
      "Exposition time: 1.9998596491228071 ms\n",
      "\n",
      "AFTER CAPTURE VALUES\n",
      "Framerate: 59.822673002972245\n",
      "Frame range: 0.9472267726036225, 59.82267300297225\n",
      "AOI:1024,1280\n",
      "time_end: 19.4162s\n",
      "INITIAL VALUES\n",
      "fps: 0.0\n",
      "Available fps range: [0.9472267726036225, 59.82267300297225]\n",
      "Pixelclock: 84\n",
      "Exposition time: 19.25361403508772 ms\n",
      "Warning: when changing pixelclock at runtime, you may need to update the fps and exposure parameters\n",
      "Warning: Specified fps (60.00) not in possible range: [0.95, 59.82]. fps has been set to 59.82.\n",
      "AOI: <pypyueye.utils.Rect object at 0x00000252065BBF50>\n",
      "\n",
      "MODIFIED VALUES\n",
      "fps: 59.822673002972245\n",
      "Available fps range: [0.9472267726036225, 59.82267300297225]\n",
      "Pixelclock: 86\n",
      "Exposition time: 1.9998596491228071 ms\n",
      "\n",
      "AFTER CAPTURE VALUES\n",
      "Framerate: 59.822673002972245\n",
      "Frame range: 0.9472267726036225, 59.82267300297225\n",
      "AOI:1024,1280\n",
      "time_end: 19.4172s\n",
      "INITIAL VALUES\n",
      "fps: 0.0\n",
      "Available fps range: [0.9472267726036225, 59.82267300297225]\n",
      "Pixelclock: 84\n",
      "Exposition time: 19.25361403508772 ms\n",
      "Warning: when changing pixelclock at runtime, you may need to update the fps and exposure parameters\n",
      "Warning: Specified fps (60.00) not in possible range: [0.95, 59.82]. fps has been set to 59.82.\n",
      "AOI: <pypyueye.utils.Rect object at 0x0000025205B202D0>\n",
      "\n",
      "MODIFIED VALUES\n",
      "fps: 59.822673002972245\n",
      "Available fps range: [0.9472267726036225, 59.82267300297225]\n",
      "Pixelclock: 86\n",
      "Exposition time: 1.9998596491228071 ms\n",
      "\n",
      "AFTER CAPTURE VALUES\n",
      "Framerate: 59.822673002972245\n",
      "Frame range: 0.9472267726036225, 59.82267300297225\n",
      "AOI:1024,1280\n",
      "time_end: 19.418200000000002s\n",
      "INITIAL VALUES\n",
      "fps: 0.0\n",
      "Available fps range: [0.9472267726036225, 59.82267300297225]\n",
      "Pixelclock: 84\n",
      "Exposition time: 19.25361403508772 ms\n",
      "Warning: when changing pixelclock at runtime, you may need to update the fps and exposure parameters\n",
      "Warning: Specified fps (60.00) not in possible range: [0.95, 59.82]. fps has been set to 59.82.\n",
      "AOI: <pypyueye.utils.Rect object at 0x00000252065B9890>\n",
      "\n",
      "MODIFIED VALUES\n",
      "fps: 59.822673002972245\n",
      "Available fps range: [0.9472267726036225, 59.82267300297225]\n",
      "Pixelclock: 86\n",
      "Exposition time: 1.9998596491228071 ms\n",
      "\n",
      "AFTER CAPTURE VALUES\n",
      "Framerate: 59.822673002972245\n",
      "Frame range: 0.9472267726036225, 59.82267300297225\n",
      "AOI:1024,1280\n"
     ]
    }
   ],
   "source": [
    "image=[]\n",
    "for i in range (len(delay)):\n",
    "    output=adwin.output(adwin.add(timeline[i],connections,devices))\n",
    "    m = ADwin.ADwin(1)\n",
    "    m = adwin.initialize_ADwin(m, output)\n",
    "    image.append(take_image_absorption_camera(m, processNo=1,nmb_ims=4,CameraExposureTime_s=exposure,print_log=True))"
   ]
  },
  {
   "cell_type": "code",
   "execution_count": 311,
   "id": "80e8d091-c76a-4813-8f74-0c1c62a09b40",
   "metadata": {},
   "outputs": [],
   "source": [
    "absim=[]\n",
    "\n",
    "for i in range(len(delay)):\n",
    "    absim.append(np.log((ab.replaceNaNwith0(image[i][2][0:600,670:1200])-ab.replaceNaNwith0(image[i][3][0:600,670:1200]))/(ab.replaceNaNwith0(image[i][0][0:600,670:1200])-ab.replaceNaNwith0(image[i][1][0:600,670:1200]))))"
   ]
  },
  {
   "cell_type": "code",
   "execution_count": 319,
   "id": "c90b3104-368a-4e79-a454-db0d0cb7d54e",
   "metadata": {},
   "outputs": [
    {
     "data": {
      "text/plain": [
       "11"
      ]
     },
     "execution_count": 319,
     "metadata": {},
     "output_type": "execute_result"
    }
   ],
   "source": [
    "len(absim)"
   ]
  },
  {
   "cell_type": "code",
   "execution_count": 320,
   "id": "7087e95c-6d8c-48fd-b901-caf8a398fdea",
   "metadata": {},
   "outputs": [],
   "source": [
    "np.savez(\"D://Data/2024-10-15_WignerTimeTest_WithAbsorptionImaging/ExpansionAfterMolassesWith1msStep\",*absim)"
   ]
  },
  {
   "cell_type": "code",
   "execution_count": 321,
   "id": "b195daa2-250e-4ed4-a204-69a444a47360",
   "metadata": {},
   "outputs": [
    {
     "data": {
      "text/plain": [
       "11"
      ]
     },
     "execution_count": 321,
     "metadata": {},
     "output_type": "execute_result"
    }
   ],
   "source": [
    "len(np.load(\"D://Data/2024-10-15_WignerTimeTest_WithAbsorptionImaging/ExpansionAfterMolassesWith1msStep.npz\"))"
   ]
  },
  {
   "cell_type": "code",
   "execution_count": 312,
   "id": "60101a1f-9489-4c28-a4c6-6dfd37a31369",
   "metadata": {},
   "outputs": [],
   "source": [
    "plt.figure()\n",
    "\n",
    "for i in range (len(delay)):\n",
    "    plt.subplot(3, 5, i+1)\n",
    "    plt.imshow(absim[i], interpolation='None',cmap=\"viridis\")\n",
    "    plt.colorbar()\n",
    "    plt.grid(False)"
   ]
  },
  {
   "cell_type": "code",
   "execution_count": 317,
   "id": "d5acad09-f205-4232-9c59-f568e0188988",
   "metadata": {},
   "outputs": [
    {
     "data": {
      "text/plain": [
       "<matplotlib.legend.Legend at 0x2520c9bb310>"
      ]
     },
     "execution_count": 317,
     "metadata": {},
     "output_type": "execute_result"
    }
   ],
   "source": [
    "plt.figure()\n",
    "\n",
    "for i in range (len(delay)):\n",
    "    plt.plot(np.sum(absim[i],axis=1), label=f'{i}')\n",
    "\n",
    "plt.legend(title='Delay [ms]')"
   ]
  },
  {
   "cell_type": "code",
   "execution_count": 310,
   "id": "198d7c18-0c69-4fbf-9d89-de79f77f4159",
   "metadata": {},
   "outputs": [
    {
     "data": {
      "text/plain": [
       "-6.369883219300329"
      ]
     },
     "execution_count": 310,
     "metadata": {},
     "output_type": "execute_result"
    }
   ],
   "source": [
    "np.sum(absim[0],axis=0)"
   ]
  },
  {
   "cell_type": "code",
   "execution_count": 243,
   "id": "856edb3a-7b96-424f-8527-7b3bd0959ba5",
   "metadata": {},
   "outputs": [],
   "source": [
    "#tl.display(\n",
    "timeline=tl.stack(\n",
    "    init(t=-2,shutter_imaging=0,AOM_imaging=1,trigger_camera=0),\n",
    "    MOT(t=0.0),\n",
    "    MOT_detunedGrowth(),\n",
    "    molasses(),\n",
    "    tl.set(AOM_repump=0,shutter_repump=0,AOM_imaging=0),\n",
    "#    expose_camera(15.106,exposure),\n",
    "    imaging_absorption(15.106,exposure,exposureBlow=1,delayBg=200e-3,delayLi=3),\n",
    "    tl.wait(1),\n",
    "    tl.next(\n",
    "        lockbox_MOT__MHz=0,\n",
    "        coil_MOTlower__A=-1.0,\n",
    "        coil_MOTupper__A=-0.98,\n",
    "        t=.1,\n",
    "        fargs={\"ti\": 3},context='sanitize'\n",
    "    ),\n",
    "    tl.set(AOM_MOT=1,AOM_repump=1,AOM_imaging=1)\n",
    ")#)"
   ]
  },
  {
   "cell_type": "code",
   "execution_count": 236,
   "id": "44f0052c-91ea-4fc0-9382-9ca42622e11c",
   "metadata": {},
   "outputs": [],
   "source": [
    "timeline=tl.stack(\n",
    "    init(t=-2,shutter_imaging=0,AOM_imaging=1,trigger_camera=0),\n",
    "    trigger_camera(1,exposure,context=\"AI\"),\n",
    "    trigger_camera(1.02,exposure,context=\"AI\"),\n",
    "    tl.wait(1,context=\"AI\")\n",
    ")"
   ]
  },
  {
   "cell_type": "code",
   "execution_count": 244,
   "id": "bc416218-8b61-46e9-829d-e10271d80d5b",
   "metadata": {},
   "outputs": [],
   "source": [
    "tl.display(timeline)"
   ]
  },
  {
   "cell_type": "code",
   "execution_count": 101,
   "id": "26c71fc5-8e76-4fa1-81b8-901fd474d966",
   "metadata": {
    "scrolled": true
   },
   "outputs": [
    {
     "data": {
      "text/plain": [
       "[[(-2, 3, 8, 32768),\n",
       "  (-2, 4, 7, 35499),\n",
       "  (-2, 3, 2, 49152),\n",
       "  (-2, 4, 2, 33423),\n",
       "  (-2, 4, 4, 32113),\n",
       "  (2200400, 4, 4, 32113),\n",
       "  (2200400, 4, 2, 33423),\n",
       "  (2200400, 3, 2, 49152),\n",
       "  (2200400, 4, 7, 35499),\n",
       "  (2200400, 3, 8, 32768)],\n",
       " [(-2, 31, 1),\n",
       "  (-2, 2, 1),\n",
       "  (-2, 1, 1),\n",
       "  (-2, 12, 0),\n",
       "  (-2, 14, 0),\n",
       "  (-2, 15, 1),\n",
       "  (-2, 13, 0),\n",
       "  (-2, 5, 1),\n",
       "  (-2, 0, 0),\n",
       "  (-2, 11, 0),\n",
       "  (999999, 0, 1),\n",
       "  (1000399, 0, 0),\n",
       "  (1999999, 0, 1),\n",
       "  (2000400, 0, 0),\n",
       "  (2200400, 5, 1),\n",
       "  (2200400, 13, 0),\n",
       "  (2200400, 15, 1),\n",
       "  (2200400, 14, 0),\n",
       "  (2200400, 12, 0),\n",
       "  (2200400, 1, 1),\n",
       "  (2200400, 2, 1),\n",
       "  (2200400, 31, 1),\n",
       "  (2200400, 0, 0),\n",
       "  (2200400, 11, 0)]]"
      ]
     },
     "execution_count": 101,
     "metadata": {},
     "output_type": "execute_result"
    }
   ],
   "source": [
    "output"
   ]
  },
  {
   "cell_type": "code",
   "execution_count": 247,
   "id": "65c30f16-7303-43fa-a2ce-f4f4332c1384",
   "metadata": {},
   "outputs": [],
   "source": [
    "image=[]"
   ]
  },
  {
   "cell_type": "code",
   "execution_count": 248,
   "id": "59f3235c-db0b-4daf-bdc5-920a6e727da3",
   "metadata": {
    "scrolled": true
   },
   "outputs": [
    {
     "name": "stdout",
     "output_type": "stream",
     "text": [
      "INITIAL VALUES\n",
      "fps: 0.0\n",
      "Available fps range: [0.9472267726036225, 59.82267300297225]\n",
      "Pixelclock: 84\n",
      "Exposition time: 19.25361403508772 ms\n",
      "Warning: when changing pixelclock at runtime, you may need to update the fps and exposure parameters\n",
      "Warning: Specified fps (60.00) not in possible range: [0.95, 59.82]. fps has been set to 59.82.\n",
      "AOI: <pypyueye.utils.Rect object at 0x000002526FAB5350>\n",
      "\n",
      "MODIFIED VALUES\n",
      "fps: 59.822673002972245\n",
      "Available fps range: [0.9472267726036225, 59.82267300297225]\n",
      "Pixelclock: 86\n",
      "Exposition time: 1.9998596491228071 ms\n",
      "\n",
      "AFTER CAPTURE VALUES\n",
      "Framerate: 59.822673002972245\n",
      "Frame range: 0.9472267726036225, 59.82267300297225\n",
      "AOI:1024,1280\n"
     ]
    }
   ],
   "source": [
    "image=take_image_absorption_camera(m, processNo=1,nmb_ims=4,CameraExposureTime_s=exposure,print_log=True)"
   ]
  },
  {
   "cell_type": "code",
   "execution_count": 249,
   "id": "652ed5af-036d-4f85-ad31-70e45425f90f",
   "metadata": {},
   "outputs": [
    {
     "data": {
      "text/plain": [
       "4"
      ]
     },
     "execution_count": 249,
     "metadata": {},
     "output_type": "execute_result"
    }
   ],
   "source": [
    "len(image)"
   ]
  },
  {
   "cell_type": "code",
   "execution_count": 135,
   "id": "4b98fa31-49e6-4be5-8951-ebc56d7aa41f",
   "metadata": {},
   "outputs": [],
   "source": [
    "#crop_image = ab.replaceNaNwith0(image[0][200:800,750:950])\n",
    "crop_image = ab.replaceNaNwith0(image[0][233:533,854:1054])\n",
    "full_image = ab.replaceNaNwith0(image[0])"
   ]
  },
  {
   "cell_type": "code",
   "execution_count": 137,
   "id": "a0dc9090-eed9-4516-80cf-190eca8f05c0",
   "metadata": {},
   "outputs": [],
   "source": [
    "full_image = ab.replaceNaNwith0(image[1])"
   ]
  },
  {
   "cell_type": "code",
   "execution_count": 304,
   "id": "d827b033-9150-4efa-b6cd-679cfe909246",
   "metadata": {},
   "outputs": [],
   "source": [
    "fullimages=[]\n",
    "for i in range(4):\n",
    "    fullimages.append(ab.replaceNaNwith0(image[0][i][0:600,670:1200]))"
   ]
  },
  {
   "cell_type": "code",
   "execution_count": 305,
   "id": "582a1c93-d0aa-4b00-9ffa-132ac9dd82ed",
   "metadata": {},
   "outputs": [],
   "source": [
    "plt.figure()\n",
    "\n",
    "plt.subplot(2, 2, 1)\n",
    "plt.imshow(fullimages[0], interpolation='None',cmap=\"viridis\")\n",
    "plt.title('At')\n",
    "plt.colorbar()\n",
    "plt.grid(False)\n",
    "\n",
    "plt.subplot(2, 2, 2)\n",
    "plt.imshow(fullimages[1], interpolation='None',cmap=\"viridis\")\n",
    "plt.title('Bg_At')\n",
    "plt.colorbar()\n",
    "plt.grid(False)\n",
    "\n",
    "plt.subplot(2, 2, 3)\n",
    "plt.imshow(fullimages[2], interpolation='None',cmap=\"viridis\")\n",
    "plt.title('Li')\n",
    "plt.colorbar()\n",
    "plt.grid(False)\n",
    "\n",
    "plt.subplot(2, 2, 4)\n",
    "plt.imshow(fullimages[3], interpolation='None',cmap=\"viridis\")\n",
    "plt.title('Bg_Li')\n",
    "plt.colorbar()\n",
    "plt.grid(False)\n",
    "\n",
    "#plt.imshow(crop_image, interpolation='None',cmap=\"viridis\")\n",
    "#plt.plot(100,150,'ro')\n",
    "#plt.imshow(full_image, interpolation='None',cmap=\"viridis\")\n",
    "\n",
    "#plt.plot(954,383,'ro')\n",
    "#plt.plot(867,277,'ro')"
   ]
  },
  {
   "cell_type": "code",
   "execution_count": 306,
   "id": "c50c58b3-5e92-47dc-85d0-efefb90d5713",
   "metadata": {},
   "outputs": [],
   "source": [
    "absim = np.log((fullimages[2]-fullimages[3])/(fullimages[0]-fullimages[1]))"
   ]
  },
  {
   "cell_type": "code",
   "execution_count": 307,
   "id": "72e8e4c7-462a-4796-9dbc-71dfbebf0c2c",
   "metadata": {},
   "outputs": [],
   "source": [
    "plt.figure()\n",
    "plt.imshow(absim, interpolation='None',cmap=\"viridis\")\n",
    "plt.colorbar()\n",
    "plt.grid(False)"
   ]
  },
  {
   "cell_type": "markdown",
   "id": "243910b9-7971-404e-ad31-3489da9c440a",
   "metadata": {},
   "source": [
    "# Imports, constants, sample-preparation functions"
   ]
  },
  {
   "cell_type": "code",
   "execution_count": 1,
   "id": "5d3b63b7-8bd3-4f0f-93c8-f1ff0dd09470",
   "metadata": {},
   "outputs": [],
   "source": [
    "import sys\n",
    "import time\n",
    "#sys.path.append(\"..\")\n",
    "\n",
    "import importlib.resources as resources\n",
    "import pathlib as pl\n",
    "import matplotlib.pyplot as plt\n",
    "\n",
    "import pandas as pd\n",
    "import numpy as np\n",
    "from munch import Munch\n",
    "from wigner_time import connection as con\n",
    "from wigner_time import timeline as tl\n",
    "from wigner_time import adwin as adwin\n",
    "from wigner_time import constructor as construct\n",
    "import wigner_time\n",
    "from wigner_time import absorptionimaging as ab\n",
    "\n",
    "from copy import deepcopy\n",
    "\n",
    "import ADwin\n",
    "\n",
    "from pyueye import ueye\n",
    "from pypyueye import Camera\n",
    "\n",
    "%matplotlib qt"
   ]
  },
  {
   "cell_type": "code",
   "execution_count": 2,
   "id": "efec58f9-460e-4a54-9167-c4a5cc5b8a7c",
   "metadata": {},
   "outputs": [],
   "source": [
    "connections = con.connection(\n",
    "    [\"shutter_MOT\", 1, 11],\n",
    "    [\"shutter_repump\", 1, 12],\n",
    "    [\"shutter_OP001\", 1, 14],\n",
    "    [\"shutter_OP002\", 1, 15],\n",
    "    [\"AOM_MOT\", 1, 1],\n",
    "    [\"AOM_repump\", 1, 2],\n",
    "#    [\"AOM_OP_aux\", 1, 30],  # should be set to 0 always\n",
    "    [\"AOM_OP\", 1, 31],\n",
    "    [\"coil_compensationX__A\", 4, 7],\n",
    "    [\"coil_compensationY__A\", 3, 2],\n",
    "    [\"coil_MOTlower__A\", 4, 1],\n",
    "    [\"coil_MOTupper__A\", 4, 3],\n",
    "    [\"coil_MOTlowerPlus__A\", 4, 2],\n",
    "    [\"coil_MOTupperPlus__A\", 4, 4],\n",
    "    [\"lockbox_MOT__MHz\", 3, 8],\n",
    ")\n",
    "\n",
    "devices = pd.DataFrame(\n",
    "    columns=[\"variable\", \"unit_range\", \"safety_range\"],\n",
    "    data=[\n",
    "        [\"coil_compensationX__A\", (-3, 3), (-3, 3)],\n",
    "        [\"coil_compensationY__A\", (-3, 3), (-3, 3)],\n",
    "        [\"coil_MOTlower__A\", (-5, 5), (-5, 5)],\n",
    "        [\"coil_MOTupper__A\", (-5, 5), (-5, 5)],\n",
    "        [\"coil_MOTlowerPlus__A\", (-5, 5), (-5, 5)],\n",
    "        [\"coil_MOTupperPlus__A\", (-5, 5), (-5, 5)],\n",
    "        #[\"lockbox_MOT__V\", (-10, 10)],\n",
    "        [\"lockbox_MOT__MHz\", (-200, 200)],\n",
    "    ],\n",
    ")\n",
    "\n",
    "# I dislike global variables but, unfortunately, a reference will probably still need to be available in the same namespace as these functions for convenience.\n",
    "constants = Munch(\n",
    "    safety_factor=1.1,\n",
    "#    factor__VpMHz=0.05,\n",
    "    lag_MOTshutter=2.48e-3,\n",
    "    Compensation=Munch(\n",
    "        Z__A=-0.1,\n",
    "        Y__A=1.5,\n",
    "        X__A=0.25,\n",
    "    ),\n",
    "    OP=Munch(\n",
    "        lag_AOM_on=15e-6,\n",
    "        lag_shutter_on=1.5e-3,\n",
    "        lag_shutter_off=1.5e-3,\n",
    "        duration_shutter_on=140e-6,\n",
    "        duration_shutter_off=600e-6,\n",
    "    ),\n",
    "    AI=Munch(\n",
    "        lag_shutter_on=2.2e-3,\n",
    "        lag_shutter_off=1.9e-3,\n",
    "    )\n",
    ")\n"
   ]
  },
  {
   "cell_type": "code",
   "execution_count": 68,
   "id": "82e6e4d2-c29e-48e6-b1cd-663b6f2ff72a",
   "metadata": {
    "scrolled": true
   },
   "outputs": [],
   "source": [
    "def init(**kwargs) :\n",
    "    \"\"\"\n",
    "    Creates an experimental timeline for the initialization of every device.\n",
    "    \"\"\"\n",
    "    return tl.create(\n",
    "        lockbox_MOT__MHz=0.0,\n",
    "        coil_compensationX__A= constants.Compensation.X__A,\n",
    "        coil_compensationY__A= constants.Compensation.Y__A,\n",
    "        coil_MOTlowerPlus__A = -constants.Compensation.Z__A,\n",
    "        coil_MOTupperPlus__A =  constants.Compensation.Z__A,\n",
    "        AOM_MOT = 1,\n",
    "        AOM_repump = 1,\n",
    "#        AOM_OP_aux = 0, # TODO: USB-controlled AOMs should be treated on a higher level\n",
    "        AOM_OP = 1,\n",
    "        shutter_MOT = 0,\n",
    "        shutter_repump = 0,\n",
    "        shutter_OP001 = 0,\n",
    "        shutter_OP002 = 1,\n",
    "        context=\"ADwin_LowInit\",\n",
    "        **kwargs\n",
    "    )\n",
    "\n",
    "\n",
    "def MOT(duration=15, lA=-1., uA=-0.98, **kwargs) :\n",
    "    return tl.stack(\n",
    "        tl.set(\n",
    "#           waitChannel = 0,\n",
    "            shutter_MOT=1,\n",
    "            shutter_repump=1,\n",
    "            coil_MOTlower__A=lA,\n",
    "            coil_MOTupper__A=uA,\n",
    "            context='MOT',**kwargs\n",
    "        ),\n",
    "        tl.wait(duration)\n",
    "    )\n",
    "    \n",
    "def MOT_detunedGrowth(duration=100e-3, durationRamp=10e-3, toMHz=-5, pt=3, **kwargs) :\n",
    "    return tl.stack(\n",
    "        tl.next(\n",
    "            lockbox_MOT__MHz=toMHz,\n",
    "            t=durationRamp,\n",
    "            fargs={\"ti\": pt},context='MOT',**kwargs\n",
    "        ),\n",
    "        tl.wait(duration-durationRamp,#\"lockbox_MOT__MHz\",\n",
    "                )\n",
    "    )\n",
    "\n",
    "def molasses(duration=5e-3, durationCoilRamp=9e-4, durationLockboxRamp=1e-3, toMHz=-90, coil_pt=3, lockbox_pt=3, **kwargs) :\n",
    "\n",
    "    return tl.stack(\n",
    "        tl.next(\n",
    "            coil_MOTlower__A=0,\n",
    "            coil_MOTupper__A=0, # TODO: can these be other than 0 (e.g. for more perfect compensaton?)\n",
    "            t=durationCoilRamp,\n",
    "            fargs={\"ti\": coil_pt},\n",
    "            context=\"molasses\",\n",
    "            **kwargs\n",
    "        ),\n",
    "        tl.next(\n",
    "            lockbox_MOT__MHz=toMHz,\n",
    "            t=durationLockboxRamp,\n",
    "            fargs={\"ti\": lockbox_pt}\n",
    "        ),\n",
    "        tl.set(\n",
    "            shutter_MOT=[duration - constants.lag_MOTshutter,0],\n",
    "            AOM_MOT=[duration,0],\n",
    "            relative=True),\n",
    "        tl.wait(1e-5)\n",
    "    )\n",
    "\n",
    "def pull_coils(duration, l, u, lp=-constants.Compensation.Z__A, up=constants.Compensation.Z__A, pt = 3, **kwargs) :\n",
    "    return tl.next(\n",
    "        coil_MOTlower__A=l,\n",
    "        coil_MOTupper__A=u,\n",
    "        coil_MOTlowerPlus__A=lp,\n",
    "        coil_MOTupperPlus__A=up,\n",
    "        fargs={\"ti\": pt},\n",
    "        t=duration,\n",
    "        **kwargs,\n",
    "    )\n",
    "\n",
    "def magneticTrapping(durationInitial=500e-6, li=-1.8, ui=-1.7, durationStrengthen=3e-3, ls=-4.8, us=-4.7, **kwargs) :\n",
    "    return tl.stack(\n",
    "        pull_coils(durationInitial,li,ui,**kwargs),\n",
    "        pull_coils(durationStrengthen,ls,us)\n",
    "    )"
   ]
  },
  {
   "cell_type": "markdown",
   "id": "0c8bb615-03e4-434f-9583-019dafbf25c6",
   "metadata": {},
   "source": [
    "## Absorption imaging"
   ]
  },
  {
   "cell_type": "code",
   "execution_count": 4,
   "id": "5c135f69-389f-4469-b3d0-4ab93886a0df",
   "metadata": {},
   "outputs": [],
   "source": [
    "connections=pd.concat([connections,con.connection([\"shutter_imaging\", 1, 13],[\"AOM_imaging\", 1, 5],[\"trigger_camera\", 1, 0])])"
   ]
  },
  {
   "cell_type": "code",
   "execution_count": 5,
   "id": "b7e67151-041c-4649-b204-c85c7b9809b0",
   "metadata": {},
   "outputs": [],
   "source": [
    "def trigger_camera(time, exposure, **kwargs) :\n",
    "    return tl.set(\n",
    "        [\"trigger_camera\",[time,1]],\n",
    "        [\"trigger_camera\",[time+exposure,0]],\n",
    "        **kwargs)\n",
    "\n",
    "def flash_light(time, exposure, **kwargs) :\n",
    "    sf = constants.safety_factor\n",
    "    return tl.stack(\n",
    "        tl.set(\n",
    "            [\"AOM_imaging\",[time,1]],\n",
    "            [\"AOM_imaging\",[time+exposure,0]],\n",
    "            **kwargs),\n",
    "        tl.set(\n",
    "            [\"shutter_imaging\",[time-exposure*(sf-1)-constants.AI.lag_shutter_on,1]],\n",
    "            [\"shutter_imaging\",[time+exposure*sf,0]]\n",
    "        ), # TODO: what to write here exactly?\n",
    "    )\n",
    "\n",
    "def expose_camera(time, exposure, **kwargs) :\n",
    "    sf = constants.safety_factor\n",
    "    return tl.stack(\n",
    "        flash_light(time,exposure,**kwargs),\n",
    "        trigger_camera(time-exposure*(sf-1)/2, exposure*sf)\n",
    "    )\n",
    "\n",
    "def take_image_plus_Bg(time, exposure, delayBg, **kwargs) :\n",
    "    return tl.stack(\n",
    "        expose_camera(time, exposure, **kwargs), # taking At image\n",
    "        trigger_camera(time+delayBg, exposure*constants.safety_factor), # taking Bg_At image\n",
    "    )    \n",
    "\n",
    "def imaging_absorption(time, exposure, delayBg, delayLi, exposureBlow=None, **kwargs) :\n",
    "    \"\"\"\n",
    "    Creates an experimental timeline for absorption imaging.\n",
    "    \"\"\"\n",
    "    context = \"imaging_absorption\"\n",
    "    return tl.stack(\n",
    "        tl.set(AOM_imaging=[time-constants.safety_factor*exposure,0],context=context,**kwargs), # initializing the AOM\n",
    "        take_image_plus_Bg(time, exposure, delayBg), # taking At + Bg_At image\n",
    "        flash_light(time+5*delayBg,exposureBlow) if exposureBlow is not None else None, # blow out the atoms in between\n",
    "        take_image_plus_Bg(time+delayLi, exposure, delayBg), # taking Li + Bg_Li image\n",
    "    )"
   ]
  },
  {
   "cell_type": "markdown",
   "id": "57483b9a-dffd-4e3d-9c4b-ec5015ed1255",
   "metadata": {},
   "source": [
    "# High-level dirver (camera, ADwin, etc.)"
   ]
  },
  {
   "cell_type": "code",
   "execution_count": 6,
   "id": "a02a4d89-00d6-468c-9fb4-f0b61c1acc64",
   "metadata": {},
   "outputs": [],
   "source": [
    "def take_image_absorption_camera(m, processNo,nmb_ims=1,CameraExposureTime_s=0.0002,aoi=(0,0,1280,1024), print_log  = False) :\n",
    "\n",
    "    with Camera(device_id=1, buffer_count=nmb_ims) as cam :\n",
    "        cam.set_colormode(ueye.IS_CM_MONO8)\n",
    "        #\n",
    "        if print_log:\n",
    "            print(f\"INITIAL VALUES\")\n",
    "            print(f'fps: {cam.get_fps()}')\n",
    "            print(f'Available fps range: {cam.get_fps_range()}')\n",
    "            print(f'Pixelclock: {cam.get_pixelclock()}')\n",
    "            print(\"Exposition time:\",cam.get_exposure(),'ms')\n",
    "        cam.set_aoi(*aoi)\n",
    "        \n",
    "        cam.set_pixelclock(86)\n",
    "        cam.set_fps(60)\n",
    "        cam.set_exposure(CameraExposureTime_s*1000) #exposuretime in ms\n",
    "        if print_log:\n",
    "            print(\"AOI:\",cam.get_aoi())\n",
    "            print(\"\")\n",
    "            print(f\"MODIFIED VALUES\")\n",
    "            print(f'fps: {cam.get_fps()}')\n",
    "            print(f'Available fps range: {cam.get_fps_range()}')\n",
    "            print(f'Pixelclock: {cam.get_pixelclock()}')\n",
    "            print(\"Exposition time:\",cam.get_exposure(),'ms')\n",
    "\n",
    "       # #==============================================================================\n",
    "       # # Capturing images in memory\n",
    "       # #==============================================================================\n",
    "        a = time.time()\n",
    "        ueye.is_SetExternalTrigger(cam.h_cam, ueye.IS_SET_TRIGGER_LO_HI) #here I set the external trigger\n",
    "\n",
    "        m.Start_Process(processNo)\n",
    "        ret = cam.capture_images(nmb_ims,60000)                  #this does the image capturing\n",
    "        \n",
    "        fps = cam.get_fps()\n",
    "        fpsr = cam.get_fps_range()\n",
    "        if print_log:\n",
    "            print(\"\")\n",
    "            print(f\"AFTER CAPTURE VALUES\")\n",
    "            print(f\"Framerate: {fps}\")\n",
    "            #print(f'Measured framerate: {nmb_ims/(time.time() - a)}') #doesn't work with the new system because of the Li pics\n",
    "            print(f\"Frame range: {fpsr[0]}, {fpsr[1]}\")\n",
    "            print(f\"AOI:{cam.get_aoi().height},{cam.get_aoi().width}\")\n",
    "        \n",
    "    while m.Process_Status(processNo)==1 : time.sleep(0.1)\n",
    "            \n",
    "    return [x.astype(int) for x in ret]"
   ]
  },
  {
   "cell_type": "markdown",
   "id": "feb0076e-2a6a-48a2-9056-09a31e037374",
   "metadata": {},
   "source": [
    "# Old stuff, test, etc."
   ]
  },
  {
   "cell_type": "code",
   "execution_count": 61,
   "id": "fb6f3f0f-cb95-4663-a596-2fd6f2b82624",
   "metadata": {},
   "outputs": [],
   "source": [
    "timeline = tl.stack(\n",
    "    init(t=-0.2,shutter_imaging=0,AOM_imaging=1,trigger_camera=0),\n",
    "    expose_camera(time=1,exposure=exposure,context=\"AI\")\n",
    "#    tl.wait(10)\n",
    ")"
   ]
  },
  {
   "cell_type": "code",
   "execution_count": 125,
   "id": "2f67b6d3-29ef-475e-9b7b-8c9d9ee547ad",
   "metadata": {},
   "outputs": [],
   "source": [
    "tl.display(timeline)"
   ]
  },
  {
   "cell_type": "code",
   "execution_count": 149,
   "id": "71ee857e-8689-4769-b8ba-43d2937bd5ac",
   "metadata": {},
   "outputs": [],
   "source": [
    "plt.figure()\n",
    "#sumx=np.sum(crop_image,axis=1)\n",
    "sumx=np.sum(full_image,axis=1)\n",
    "plt.vlines(383,min(sumx),max(sumx),color='r')\n",
    "plt.plot(sumx);"
   ]
  },
  {
   "cell_type": "code",
   "execution_count": 150,
   "id": "aeb6b9ee-4cd7-472f-a9be-0ce10e2a8ec5",
   "metadata": {},
   "outputs": [],
   "source": [
    "plt.figure()\n",
    "#sumy=np.sum(crop_image,axis=0)\n",
    "sumy=np.sum(full_image,axis=0)\n",
    "plt.vlines(954,min(sumy),max(sumy),color='r')\n",
    "plt.plot(sumy);"
   ]
  },
  {
   "cell_type": "code",
   "execution_count": null,
   "id": "9b3c6863-d3be-4aa4-9df4-3315bbeebb19",
   "metadata": {},
   "outputs": [],
   "source": []
  },
  {
   "cell_type": "code",
   "execution_count": null,
   "id": "8ba88106-f7cc-41ea-b840-95ea9c27c375",
   "metadata": {},
   "outputs": [],
   "source": []
  }
 ],
 "metadata": {
  "kernelspec": {
   "display_name": "Python 3 (ipykernel)",
   "language": "python",
   "name": "python3"
  },
  "language_info": {
   "codemirror_mode": {
    "name": "ipython",
    "version": 3
   },
   "file_extension": ".py",
   "mimetype": "text/x-python",
   "name": "python",
   "nbconvert_exporter": "python",
   "pygments_lexer": "ipython3",
   "version": "3.12.7"
  }
 },
 "nbformat": 4,
 "nbformat_minor": 5
}
