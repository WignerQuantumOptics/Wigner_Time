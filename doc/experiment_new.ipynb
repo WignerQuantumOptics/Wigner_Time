{
 "cells": [
  {
   "cell_type": "markdown",
   "id": "5b7db8e9-6dad-4fb8-91c2-2d4866ccde14",
   "metadata": {},
   "source": [
    "Calibrate: MOT shutter delay, delay of OP shutters"
   ]
  },
  {
   "cell_type": "code",
   "execution_count": 2,
   "id": "211ff432-3b87-43f2-b64e-676c4c865352",
   "metadata": {},
   "outputs": [],
   "source": [
    "exposure=0.002\n",
    "\n",
    "timeline=tl.stack(\n",
    "    ex.init(t=-2,\n",
    "            shutter_imaging=0,AOM_imaging=1,trigger_camera=0\n",
    "            ),\n",
    "    ex.MOT(),\n",
    "    ex.MOT_detunedGrowth(),\n",
    "    ex.molasses(),\n",
    "    ex.OP(),\n",
    "    ex.magneticTrapping(),\n",
    "    ex.finish(wait=2,MOT_ON=True,\n",
    "              shutter_imaging=0,AOM_imaging=1,trigger_camera=0\n",
    "              ),\n",
    "#    trigger_camera(15.5,exposure,\"AI\"),\n",
    "    )\n",
    "\n",
    "timeline=di.imaging_absorption(10e-3,\n",
    "    #15.5,\n",
    "    exposure,exposureBlow=1e-2,delayBg=50e-3,delayLi=1,\n",
    "    anchorToContext=\"magneticTrapping\",\n",
    "    timeline=timeline\n",
    "    )"
   ]
  },
  {
   "cell_type": "code",
   "execution_count": 3,
   "id": "07f3f6c6-a2fd-4fa2-9e59-3e3ae535a2f1",
   "metadata": {},
   "outputs": [
    {
     "data": {
      "text/plain": [
       "(<Figure size 750x750 with 4 Axes>,\n",
       " array([<Axes: ylabel='Current [A]'>, <Axes: ylabel='Frequency [MHz]'>,\n",
       "        <Axes: ylabel='Digital channels'>], dtype=object))"
      ]
     },
     "execution_count": 3,
     "metadata": {},
     "output_type": "execute_result"
    }
   ],
   "source": [
    "dp.display_new(timeline,variables = [\"Anchor\",\"shutter_MOT\",\"AOM_MOT\",\"shutter_repump\",\"AOM_repump\",\n",
    "                                     \"shutter_OP001\",\"shutter_OP002\",\"AOM_OP\",\"coil_MOTlower__A\",\"coil_MOTupper__A\",\"lockbox_MOT__MHz\",\n",
    "                                     \"shutter_imaging\",\"AOM_imaging\",\"trigger_camera\"\n",
    "                                     ])"
   ]
  },
  {
   "cell_type": "code",
   "execution_count": 5,
   "id": "d979617e-2b98-48e8-822d-fc62efe08ea6",
   "metadata": {},
   "outputs": [
    {
     "data": {
      "text/plain": [
       "np.int64(2147483648)"
      ]
     },
     "execution_count": 5,
     "metadata": {},
     "output_type": "execute_result"
    }
   ],
   "source": [
    "#ad.output(\n",
    "ad.add(timeline,connections,ex.devices).iloc[-1][\"cycle\"]#)"
   ]
  },
  {
   "cell_type": "markdown",
   "id": "ce73c58c-f060-496f-9559-efe7dfa7280f",
   "metadata": {},
   "source": [
    "# Imports"
   ]
  },
  {
   "cell_type": "code",
   "execution_count": 1,
   "id": "5b9af8dc-c982-47c7-8f82-546f991bac0b",
   "metadata": {},
   "outputs": [],
   "source": [
    "import sys\n",
    "sys.path.append(\"..\")\n",
    "\n",
    "import pandas as pd\n",
    "\n",
    "from wigner_time import timeline as tl\n",
    "from wigner_time import adwin as adwin\n",
    "from wigner_time import connection as con\n",
    "from wigner_time import display as dp\n",
    "from wigner_time import adwin as ad\n",
    "import wigner_time\n",
    "\n",
    "import experiment as ex\n",
    "import diagnostics as di\n",
    "\n",
    "%matplotlib qt"
   ]
  },
  {
   "cell_type": "markdown",
   "id": "7daeaba4-be93-4efe-aadc-0c00ddf0224f",
   "metadata": {},
   "source": [
    "# Tests old"
   ]
  },
  {
   "cell_type": "markdown",
   "id": "54f46119-6039-486f-8ca9-62fac1e548cf",
   "metadata": {
    "jp-MarkdownHeadingCollapsed": true
   },
   "source": [
    "## Testing the difference between `globalRelative=True/False` in `next`"
   ]
  },
  {
   "cell_type": "code",
   "execution_count": null,
   "id": "9123beed-6b44-461f-b3ef-c9bb52395f32",
   "metadata": {},
   "outputs": [],
   "source": [
    "timeline=tl.stack(\n",
    "    init(t=-2,coil_MOTlower__A=.0,coil_MOTupper__A=.0),\n",
    "    tl.next(coil_MOTlower__A=-3.0, t=1., time_start=0., context=\"any\"),\n",
    "    tl.next(coil_MOTupper__A=-4.0, t=1.5, time_start=0.5),\n",
    "    tl.next(lockbox_MOT__MHz=-5, t=1.5, globalRelative=False)\n",
    ")"
   ]
  },
  {
   "cell_type": "code",
   "execution_count": null,
   "id": "42c79587-6d44-4289-b57e-8c1a86b14a54",
   "metadata": {},
   "outputs": [],
   "source": [
    "tl.display(timeline)#,variables=[\"coil_MOTlower__A\",\"coil_MOTupper\",\"lockbox_MOT__MHz\"])"
   ]
  },
  {
   "cell_type": "code",
   "execution_count": null,
   "id": "de480eb1-9429-4008-b4e9-122b3f387615",
   "metadata": {},
   "outputs": [],
   "source": [
    "timeline=tl.stack(\n",
    "    init(t=-2#,shutter_imaging=0,AOM_imaging=1,trigger_camera=0\n",
    "        ),\n",
    "    MOT(t=0.0),\n",
    "    MOT_detunedGrowth(),\n",
    "    tl.wait(1),\n",
    "    tl.next(\n",
    "        lockbox_MOT__MHz=0,\n",
    "        coil_MOTlower__A=-1.0,\n",
    "        coil_MOTupper__A=-0.98,\n",
    "        t=.1,\n",
    "        fargs={\"ti\": 3},context='sanitize'\n",
    "    ),\n",
    "    tl.set(AOM_MOT=1,AOM_repump=1,AOM_imaging=1)\n",
    ")"
   ]
  },
  {
   "cell_type": "code",
   "execution_count": null,
   "id": "ac3f30f1-e689-4c04-ae6c-3bb60863051c",
   "metadata": {},
   "outputs": [],
   "source": [
    "prev=tl.previous(timeline,\"coil_MOTlower__A\")\n",
    "prev.values[0]=1#[\"value\"]\n",
    "prev"
   ]
  },
  {
   "cell_type": "markdown",
   "id": "6beb951b-5b7d-492a-908c-93257b2a4c56",
   "metadata": {
    "jp-MarkdownHeadingCollapsed": true
   },
   "source": [
    "# Thomas’s solution"
   ]
  },
  {
   "cell_type": "code",
   "execution_count": null,
   "id": "9693420d-37b0-48cc-a767-ca2f363d3d00",
   "metadata": {},
   "outputs": [],
   "source": [
    "defaults = Munch()\n",
    "\n",
    "# NOTE: MOTplus coils are part of the compensation and so should default to the compensation values.\n",
    "defaults.MOT = Munch(\n",
    "    lockbox_MOT__V=0.0,\n",
    "    shutter_MOT=1, # TODO: why the shutter values here?\n",
    "    shutter_repump=1,\n",
    "    coil_MOTlower__A=-1.0,\n",
    "    coil_MOTupper__A=-0.98,\n",
    ")\n",
    "\n",
    "defaults.molasses = Munch(\n",
    "    duration_cooling=5e-3,\n",
    "    duration_ramp=1e-3,\n",
    "    shift__MHz=-80,\n",
    "    fraction_ramp_duration=0.9,\n",
    "    coil_MOTlower__A=0.0,\n",
    "    coil_MOTupper__A=0.0,\n",
    ")\n",
    "\n",
    "defaults.magnetic = Munch(\n",
    "    delay=1e-3,\n",
    "    quadrupole=Munch(duration_ramp=50e-6, coil_MOTlower__A=-1.8, coil_MOTupper__A=-1.7),\n",
    "    strong=Munch(duration_ramp=3e-3, coil_MOTlower__A=-4.8, coil_MOTupper__A=-4.7),\n",
    ")\n",
    "\n",
    "defaults.finish = Munch(set={}, ramp={})\n",
    "defaults.finish.set = Munch(\n",
    "    AOM_MOT=1,\n",
    "    AOM_repump=1,\n",
    "    AOM_repump__V=5,\n",
    "    AOM_imaging=1,\n",
    "    AOM_OP_aux=0,\n",
    "    AOM_OP=1,\n",
    "    AOM_science=1,\n",
    "    AOM_science__V=0.0,\n",
    "    AOM_ref=1,\n",
    "    shutter_MOT=1,\n",
    "    shutter_repump=1,\n",
    "    shutter_imaging=0,\n",
    "    shutter_OP001=0,\n",
    "    shutter_OP002=1,\n",
    "    shutter_science=1,\n",
    "    shutter_transversePump=0,\n",
    "    shutter_coupling=0,\n",
    "    trigger_TC__V=0,\n",
    "    photodiode__V=0,\n",
    ")\n",
    "defaults.finish.ramp = Munch(\n",
    "    coil_MOTlower__A=0.0,\n",
    "    coil_MOTupper__A=0.0,\n",
    "    coil_MOTlowerPlus__A=-constants.Bfield_compensation_Z__A,\n",
    "    coil_MOTupperPlus__A=constants.Bfield_compensation_Z__A,\n",
    "    coil_compensationX__A=constants.Bfield_compensation_X__A,\n",
    "    coil_compensationY__A=constants.Bfield_compensation_Y__A,\n",
    "    lockbox_MOT__V=lock_box.to_V(0.0),\n",
    ")"
   ]
  },
  {
   "cell_type": "code",
   "execution_count": null,
   "id": "ec67871a-8d50-424e-b749-28eee155106e",
   "metadata": {},
   "outputs": [],
   "source": [
    "def init():\n",
    "    \"\"\"\n",
    "    Creates an experimental timeline for the initialization of every relevant variable.\n",
    "    \"\"\"\n",
    "    return tl.create(\n",
    "        lockbox_MOT__V=0.0,\n",
    "        coil_compensationX__A=constants.Bfield_compensation_X__A,\n",
    "        coil_compensationY__A=constants.Bfield_compensation_Y__A,\n",
    "        coil_MOTlowerPlus__A=-constants.Bfield_compensation_Z__A,\n",
    "        coil_MOTupperPlus__A=constants.Bfield_compensation_Z__A,\n",
    "        AOM_MOT=1,\n",
    "        AOM_repump=1,\n",
    "        AOM_OP_aux=0,\n",
    "        AOM_OP=1,\n",
    "        shutter_MOT=0,\n",
    "        shutter_repump=0,\n",
    "        shutter_OP001=0,\n",
    "        shutter_OP002=1,\n",
    "        context=\"ADwin_LowInit\",\n",
    "    )\n",
    "\n",
    "def MOT(\n",
    "    detuning__MHz=-5,\n",
    "    duration=10.0,\n",
    "    durationFinal=1.0,\n",
    "    # ===\n",
    "    time_start=None,\n",
    "    variables: Munch | None = None,\n",
    "    variables_default=defaults.MOT,\n",
    "    timeline=init(),\n",
    "    context=\"MOT\",\n",
    "):\n",
    "    \"\"\"\n",
    "    Creates a Magneto-Optical Trap.\n",
    "\n",
    "    \"\"\"\n",
    "    _time_start, _variables = construct.time_and_arguments(\n",
    "        time_start, variables, variables_default, timeline\n",
    "    )\n",
    "\n",
    "    return tl.update(\n",
    "        tl.create(\n",
    "            shutter_MOT=_variables.shutter_MOT,\n",
    "            shutter_repump=_variables.shutter_repump,\n",
    "            coil_MOTlower__A=_variables.coil_MOTlower__A,\n",
    "            coil_MOTupper__A=_variables.coil_MOTupper__A,\n",
    "            # ===\n",
    "            timeline=timeline,\n",
    "            context=context,\n",
    "        ),\n",
    "        tl.next(\n",
    "            lockbox_MOT__V=lock_box.to_V(detuning__MHz), t=durationFinal, time_start=duration-durationFinal, context=\"MOT_grow\"\n",
    "        ),\n",
    "    )\n",
    "\n",
    "\n",
    "def molasses(\n",
    "    duration_cooling=5e-3,\n",
    "    duration_ramp=1e-3,\n",
    "    detuning__MHz=-80,\n",
    "    # ===\n",
    "    # Specific values above ↑\n",
    "    # Repeated values below ↓\n",
    "    # ===\n",
    "    time_start=None,\n",
    "    variables: Munch | None = None,\n",
    "    variables_default=defaults.molasses,\n",
    "    timeline=MOT(),\n",
    "    context=\"molasses\",\n",
    "):\n",
    "    _time_start, _variables = construct.time_and_arguments(\n",
    "        time_start, variables, variables_default, timeline\n",
    "    )\n",
    "\n",
    "    if duration_ramp >= duration_cooling:\n",
    "        raise ValueError(\"duration_ramp should be smaller than duration_cooling!\")\n",
    "\n",
    "    return tl.update(\n",
    "        tl.create(\n",
    "            AOM_MOT=[_time_start + duration_cooling, 0],\n",
    "            shutter_MOT=[_time_start + duration_cooling - constants.lag_MOTshutter, 0],\n",
    "            timeline=timeline,\n",
    "            context=context,\n",
    "        ),\n",
    "        tl.next(\n",
    "            coil_MOTlower__A=_variables.coil_MOTlower__A,\n",
    "            coil_MOTupper__A=_variables.coil_MOTupper__A,\n",
    "            t=duration_ramp,\n",
    "        ),\n",
    "        tl.next(lockbox_MOT__V=lock_box.to_V(detuning__MHz), t=duration_ramp),\n",
    "    )"
   ]
  },
  {
   "cell_type": "code",
   "execution_count": null,
   "id": "19e8a4f9-7a20-4eed-94b8-d31ee2a14073",
   "metadata": {},
   "outputs": [],
   "source": [
    "init()"
   ]
  },
  {
   "cell_type": "code",
   "execution_count": null,
   "id": "37e758b3-2237-46a3-8638-5b75b6f58f04",
   "metadata": {
    "scrolled": true
   },
   "outputs": [],
   "source": [
    "tl.display(molasses(timeline=MOT(variables={\"coil_MOTlower__A\":-.5})))"
   ]
  },
  {
   "cell_type": "markdown",
   "id": "6f279fc6-9407-4338-867e-f18a1c8093c3",
   "metadata": {
    "jp-MarkdownHeadingCollapsed": true
   },
   "source": [
    "# Params layer"
   ]
  },
  {
   "cell_type": "code",
   "execution_count": null,
   "id": "7561ded1",
   "metadata": {},
   "outputs": [],
   "source": [
    "params_default = Munch(\n",
    "    MOT=Munch(\n",
    "        duration_grow=15.0,\n",
    "        duration_final=100e-3, # should be smaller than duration_grow\n",
    "        shift__MHz=-5.0,\n",
    "        duration_ramp=10e-3,\n",
    "        coil_lower__A=-1,\n",
    "        coil_upper__A=-0.98, # TODO why the asymmetry? this was probably part of magnetic compensation\n",
    "    ),\n",
    "    molasses=Munch(\n",
    "        duration_cooling=5e-3,\n",
    "        duration_ramp=1e-3, # should be smaller than duration_cooling\n",
    "        shift__MHz=-80,\n",
    "        fraction_ramp_duration=0.9,\n",
    "        ),\n",
    "    OP=Munch(\n",
    "        duration_exposure=80e-6,\n",
    "        duration_ramp_coils_dipole=500e-6,\n",
    "        homogeneous_field__A=-0.12,\n",
    "    ),\n",
    "    trapping_magnetic=Munch(\n",
    "        delay_magnetic_trap=1e-3,\n",
    "        duration_ramp_coils_quadrupole=50e-6,\n",
    "        duration_ramp_coils_strengthen=3e-3,\n",
    "        lowerMOT_quadrupole__A=-1.8,\n",
    "        upperMOT_quadrupole__A=-1.7, # TODO why the asymmetry? this was probably part of magnetic compensation\n",
    "        lowerMOT_strengthen__A=-4.8,\n",
    "        upperMOT_strengthen__A=-4.7, # TODO why the asymmetry? this was probably part of magnetic compensation\n",
    "    ),\n",
    "    transport_magnetic=Munch(\n",
    "        delay=5e-3,\n",
    "        duration=150e-3,\n",
    "        lowerMOT__A=-0.3121632,\n",
    "        upperMOT__A=-4.748368,\n",
    "        lowerMOTPlus__A=-4.648368,\n",
    "        upperMOTPlus__A=-4.748368,\n",
    "        parameter_tanh=2.25,\n",
    "    ),\n",
    "    finish=Munch(\n",
    "        duration_until_finish = 0,\n",
    "        duration_ramp = 1e-3,\n",
    "        lockbox_initial__V = 0,\n",
    "    )\n",
    ")"
   ]
  },
  {
   "cell_type": "code",
   "execution_count": null,
   "id": "b6c1dd61",
   "metadata": {},
   "outputs": [],
   "source": [
    "def init():\n",
    "    return preparation_functions.init()\n",
    "\n",
    "def MOT(tline, time, params,context=\"\"):\n",
    "    tline = preparation_functions.MOT(tline, time, params.MOT.lowerMOT__A, params.MOT.upperMOT__A)\n",
    "    tline = preparation_functions.MOT_detunedGrowth(tline, time+params.MOT.duration_grow-params.MOT.duration_final, params.MOT.duration_ramp, \n",
    "                                             params.MOT.shift__MHz,pt=3)\n",
    "    return tline, time+params.MOT.duration_grow\n",
    "\n",
    "def molasses(tline, time, params):\n",
    "    tline = preparation_functions.molasses(tline, time, params.molasses.duration_cooling, params.molasses.duration_ramp, params.molasses.duration_ramp, \n",
    "                                            params.molasses.shift__MHz)\n",
    "    return tline, time+params.molasses.duration_cooling\n",
    "\n",
    "def OP(tline, time, params):\n",
    "    #def OP(tline, time, duration_exposure, duration_ramp_coils_dipole, duration_shutter_on, homogenous_field__A,coil_parameter_tanh=3):\n",
    "    tline = preparation_functions.OP(tline, time, params.OP.duration_exposure, params.OP.duration_ramp_coils_dipole, params.OP.homogenous_field__A)\n",
    "    return tline, time+params.OP.duration_exposure\n",
    "\n",
    "def magnetic_field(tline, time, params):\n",
    "    tline = preparation_functions.pull_coils(tline, time, params.trapping_magnetic.duration_ramp_coils_quadrupole, params.trapping_magnetic.lowerMOT_quadrupole__A,\n",
    "                                                    params.trapping_magnetic.upperMOT_quadrupole__A,context=\"trapping_magnetic\")\n",
    "    time = time+params.trapping_magnetic.duration_ramp_coils_quadrupole\n",
    "    tline = preparation_functions.pull_coils(tline, time, params.trapping_magnetic.duration_ramp_coils_strengthen, params.trapping_magnetic.lowerMOT_strengthen__A,\n",
    "                                             params.trapping_magnetic.upperMOT_strengthen__A,context=\"trapping_magnetic\")\n",
    "    return tline, time+params.trapping_magnetic.duration_ramp_coils_strengthen\n",
    "\n",
    "def transport_magnetic(tline, time, params):\n",
    "    tline = preparation_functions.pull_coils(tline, time, params.transport_magnetic.duration, params.transport_magnetic.lowerMOT__A,\n",
    "                                            params.transport_magnetic.upperMOT__A,params.transport_magnetic.lowerMOTPlus__A,params.transport_magnetic.upperMOTPlus__A,\n",
    "                                            context = \"magnetic_transport\")\n",
    "    return tline, time+params.transport_magnetic.duration\n",
    "\n",
    "def switch_off_trap_magnetic(tline, time, params):\n",
    "    tline = preparation_functions.pull_coils(tline, time, params.switch_off_trap_magnetic.duration, 0,0)\n",
    "    return tline, time+params.switch_off_trap_magnetic.duration\n",
    "\n",
    "#parameter??\n",
    "def transport_back_magnetic(tline, time, params):\n",
    "    tline = preparation_functions.transport_back_magnetic(tline, time, params.transport_back_magnetic.duration, params.transport_back_magnetic.lowerMOT_strengthen__A, params.transport_back_magnetic.upperMOT_strengthen__A)\n",
    "    return tline, time+params.transport_back_magnetic.duration\n",
    "\n",
    "def finish(tline, time, params):\n",
    "    return preparation_functions.finish(tline, time, params.finish.duration_ramp, params.finish.lockbox_initial__V, params.finish.science_AOM__V, params.finish.coil_lowerMOT__A, params.finish.coil_upperMOT__A)"
   ]
  },
  {
   "cell_type": "code",
   "execution_count": null,
   "id": "b3db2391",
   "metadata": {},
   "outputs": [],
   "source": [
    "def prepare_atoms(params):\n",
    "    tline = init()\n",
    "    tline,timeMOT = MOT(tline, 0, params)\n",
    "    tline,timemolasses = molasses( *MOT(tline, 0, params), params)\n",
    "    tline,timeOP = OP(tline, timemolasses, params)\n",
    "    tline,timeTrapping = magnetic_field(tline, timeOP+params.trapping_magnetic.delay_magnetic_trap, params)\n",
    "    tline = finish(tline, timeTrapping, params)\n",
    "    return tline"
   ]
  },
  {
   "cell_type": "code",
   "execution_count": null,
   "id": "50a7df54",
   "metadata": {},
   "outputs": [],
   "source": [
    "params=deepcopy(params_default)\n",
    "params.finish.duration_until_finish = 500e-3\n",
    "\n",
    "tline = prepare_atoms(params)"
   ]
  },
  {
   "cell_type": "code",
   "execution_count": null,
   "id": "58ed555e-9dbf-440d-b900-7af8a09c30a8",
   "metadata": {},
   "outputs": [],
   "source": [
    "%matplotlib qt\n",
    "tl.display(tline,variables=['lockbox_MOT__V','AOM_MOT','AOM_repump','shutter_repump','AOM_repump__V'],xlim=[15,15.05])"
   ]
  },
  {
   "cell_type": "code",
   "execution_count": null,
   "id": "80856a95-fa1e-44d0-a99c-e8d482334e08",
   "metadata": {},
   "outputs": [],
   "source": []
  }
 ],
 "metadata": {
  "kernelspec": {
   "display_name": "Python 3 (ipykernel)",
   "language": "python",
   "name": "python3"
  },
  "language_info": {
   "codemirror_mode": {
    "name": "ipython",
    "version": 3
   },
   "file_extension": ".py",
   "mimetype": "text/x-python",
   "name": "python",
   "nbconvert_exporter": "python",
   "pygments_lexer": "ipython3",
   "version": "3.12.7"
  }
 },
 "nbformat": 4,
 "nbformat_minor": 5
}
