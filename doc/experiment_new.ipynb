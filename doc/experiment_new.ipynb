{
 "cells": [
  {
   "cell_type": "markdown",
   "id": "5b7db8e9-6dad-4fb8-91c2-2d4866ccde14",
   "metadata": {},
   "source": [
    "Calibrate: MOT shutter delay, delay of OP shutters"
   ]
  },
  {
   "cell_type": "markdown",
   "id": "c224b33a-c86d-4e78-8fbf-cf732121ae71",
   "metadata": {},
   "source": [
    "# Creating new display"
   ]
  },
  {
   "cell_type": "code",
   "execution_count": 8,
   "id": "c81df744-ad3a-4530-9140-5a1332a322dd",
   "metadata": {},
   "outputs": [],
   "source": [
    "import matplotlib.pyplot as plt"
   ]
  },
  {
   "cell_type": "code",
   "execution_count": 1,
   "id": "a7e923c9-e47b-474b-a82c-dac9fb13a5dc",
   "metadata": {},
   "outputs": [
    {
     "ename": "NameError",
     "evalue": "name 'tl' is not defined",
     "output_type": "error",
     "traceback": [
      "\u001b[0;31m---------------------------------------------------------------------------\u001b[0m",
      "\u001b[0;31mNameError\u001b[0m                                 Traceback (most recent call last)",
      "Cell \u001b[0;32mIn[1], line 1\u001b[0m\n\u001b[0;32m----> 1\u001b[0m timeline\u001b[38;5;241m=\u001b[39m\u001b[43mtl\u001b[49m\u001b[38;5;241m.\u001b[39mstack(\n\u001b[1;32m      2\u001b[0m     init(t\u001b[38;5;241m=\u001b[39m\u001b[38;5;241m-\u001b[39m\u001b[38;5;241m2\u001b[39m),\n\u001b[1;32m      3\u001b[0m     MOT(),\n\u001b[1;32m      4\u001b[0m     MOT_detunedGrowth(),\n\u001b[1;32m      5\u001b[0m     molasses(),\n\u001b[1;32m      6\u001b[0m     OP(),\n\u001b[1;32m      7\u001b[0m     magneticTrapping(),\n\u001b[1;32m      8\u001b[0m     finish(MOT_ON\u001b[38;5;241m=\u001b[39m\u001b[38;5;28;01mTrue\u001b[39;00m),\n\u001b[1;32m      9\u001b[0m )\n\u001b[1;32m     11\u001b[0m variables \u001b[38;5;241m=\u001b[39m [\u001b[38;5;124m\"\u001b[39m\u001b[38;5;124mAnchor\u001b[39m\u001b[38;5;124m\"\u001b[39m,\u001b[38;5;124m\"\u001b[39m\u001b[38;5;124mshutter_MOT\u001b[39m\u001b[38;5;124m\"\u001b[39m,\u001b[38;5;124m\"\u001b[39m\u001b[38;5;124mAOM_MOT\u001b[39m\u001b[38;5;124m\"\u001b[39m,\u001b[38;5;124m\"\u001b[39m\u001b[38;5;124mshutter_repump\u001b[39m\u001b[38;5;124m\"\u001b[39m,\u001b[38;5;124m\"\u001b[39m\u001b[38;5;124mAOM_repump\u001b[39m\u001b[38;5;124m\"\u001b[39m,\n\u001b[1;32m     12\u001b[0m              \u001b[38;5;124m\"\u001b[39m\u001b[38;5;124mshutter_OP001\u001b[39m\u001b[38;5;124m\"\u001b[39m,\u001b[38;5;124m\"\u001b[39m\u001b[38;5;124mshutter_OP002\u001b[39m\u001b[38;5;124m\"\u001b[39m,\u001b[38;5;124m\"\u001b[39m\u001b[38;5;124mAOM_OP\u001b[39m\u001b[38;5;124m\"\u001b[39m,\u001b[38;5;124m\"\u001b[39m\u001b[38;5;124mcoil_MOTlower__A\u001b[39m\u001b[38;5;124m\"\u001b[39m,\u001b[38;5;124m\"\u001b[39m\u001b[38;5;124mcoil_MOTupper__A\u001b[39m\u001b[38;5;124m\"\u001b[39m,\u001b[38;5;124m\"\u001b[39m\u001b[38;5;124mlockbox_MOT__MHz\u001b[39m\u001b[38;5;124m\"\u001b[39m]\n\u001b[1;32m     14\u001b[0m \u001b[38;5;66;03m#tl.display(timeline)\u001b[39;00m\n",
      "\u001b[0;31mNameError\u001b[0m: name 'tl' is not defined"
     ]
    }
   ],
   "source": [
    "timeline=tl.stack(\n",
    "    init(t=-2),\n",
    "    MOT(),\n",
    "    MOT_detunedGrowth(),\n",
    "    molasses(),\n",
    "    OP(),\n",
    "    magneticTrapping(),\n",
    "    finish(MOT_ON=True),\n",
    ")\n",
    "\n",
    "variables = [\"Anchor\",\"shutter_MOT\",\"AOM_MOT\",\"shutter_repump\",\"AOM_repump\",\n",
    "             \"shutter_OP001\",\"shutter_OP002\",\"AOM_OP\",\"coil_MOTlower__A\",\"coil_MOTupper__A\",\"lockbox_MOT__MHz\"]\n",
    "\n",
    "#tl.display(timeline)\n",
    "def display_new(timeline, variables=None) :\n",
    "    timeline = timeline.sort_values(\"time\", ignore_index=True)\n",
    "    \n",
    "    max_time=timeline.loc[timeline[\"context\"]!=\"ADwin_Finish\",\"time\"].max() # apart from the finish section\n",
    "    \n",
    "    timeline.loc[timeline[\"context\"] == \"ADwin_LowInit\", \"time\"] = -0.5\n",
    "    timeline.loc[timeline[\"context\"] == \"ADwin_Init\",    \"time\"] = -0.25\n",
    "    timeline.loc[timeline[\"context\"] == \"ADwin_Finish\",  \"time\"] = max_time+0.25\n",
    "    \n",
    "    if variables is None : variables = timeline[\"variable\"].unique()\n",
    "    variables = sorted(variables, key=(lambda s: s[s.find(\"_\") + 1]))\n",
    "    \n",
    "    analog_variables = { key: [s for s in variables if s.endswith(value)] for key, value in tl.ANALOG_SUFFIXES.items() }\n",
    "    analog_variables = { key: value for key, value in analog_variables.items() if value }\n",
    "    \n",
    "    digital_variables = list( filter( lambda s : s not in [item for sublist in analog_variables.values() for item in sublist] and s!=\"Anchor\" , variables ) )\n",
    "    \n",
    "    prop_cycle = plt.rcParams['axes.prop_cycle']\n",
    "    colors = prop_cycle.by_key()['color']\n",
    "    \n",
    "    fig, axes = plt.subplots(\n",
    "       len(analog_variables)+1 , sharex=True, figsize=(7.5, 7.5)\n",
    "    )  # TODO: make this more flexible, preferably sth like %matplotlib\n",
    "    \n",
    "    fig.tight_layout()\n",
    "    \n",
    "    for key, axis in zip(analog_variables.keys(),axes[:-1]) :\n",
    "        axis.set_ylabel(key+\" [{}]\".format(tl.ANALOG_SUFFIXES[key][2:]))\n",
    "        for variable, color in zip(analog_variables[key],colors) :\n",
    "            array=timeline.loc[ timeline[\"variable\"] == variable, [\"time\", \"value\", \"context\"] ].to_numpy()\n",
    "            axis.plot(array[:,0],array[:,1])\n",
    "            axis.text(array[0,0],array[0,1],variable,color=color)\n",
    "    \n",
    "    axes[-1].set_ylabel(\"Digital channels\")\n",
    "    for variable, offset, color in zip(digital_variables,range(len(list(digital_variables))),colors) :\n",
    "        baseline=offset/10.\n",
    "        array=timeline.loc[ timeline[\"variable\"] == variable, [\"time\", \"value\", \"context\"] ].to_numpy()\n",
    "        axes[-1].step(array[:,0],array[:,1]+baseline,where=\"post\",color=color)\n",
    "        axes[-1].axhline(baseline, color=color, linestyle=\":\")\n",
    "    axes[-1].set_yticks( [i/10. for i in range(len(list(digital_variables))) ] )\n",
    "    axes[-1].set_yticklabels(digital_variables)\n",
    "    # draw dotted lines of the same color at zero level, and on y axis make ticks+labels with the same color + name them with key\n",
    "    # (the original ticks are not necessary)\n",
    "    \n",
    "    # shade init and finish:\n",
    "    axes[-1].axvspan(-.75, 0, color='gray', alpha=0.3) \n",
    "    axes[-1].axvspan(max_time, max_time+.5, color='gray', alpha=0.3)\n",
    "    \n",
    "    anchors=timeline.loc[ timeline[\"variable\"] == \"Anchor\", [\"time\", \"context\"] ].to_numpy()\n",
    "    for anchorTime in anchors[:,0] :\n",
    "        for axis in axes :\n",
    "            axis.axvline(anchorTime, color='0.5', linestyle='--')\n",
    "    \n",
    "    ax2=axes[0].twiny()\n",
    "    ax2.set_xlim(axes[0].get_xlim())\n",
    "    ax2.set_xticks(list(anchors[:,0]))  # Set ticks at the specified x-values\n",
    "    ax2.set_xticklabels(list(anchors[:,1]))\n",
    "    \n",
    "    def sync_axes(event):\n",
    "        ax2.set_xlim(axes[0].get_xlim())\n",
    "    \n",
    "    # Connect the sync function to the 'xlim_changed' event\n",
    "    axes[0].callbacks.connect('xlim_changed', sync_axes)\n",
    "    \n",
    "    # Display the plot\n",
    "    plt.show()"
   ]
  },
  {
   "cell_type": "code",
   "execution_count": 38,
   "id": "de81e085-9320-4cba-81a3-360534aca89e",
   "metadata": {},
   "outputs": [
    {
     "data": {
      "text/plain": [
       "[0.0, 15.0, 15.1, 15.105, 16.105]"
      ]
     },
     "execution_count": 38,
     "metadata": {},
     "output_type": "execute_result"
    }
   ],
   "source": [
    "list(anchors[:,0])"
   ]
  },
  {
   "cell_type": "code",
   "execution_count": 17,
   "id": "0117f91d-3cfe-42f9-81e2-b9953b0a679f",
   "metadata": {},
   "outputs": [
    {
     "data": {
      "text/plain": [
       "(np.float64(-1.125), np.float64(1.625))"
      ]
     },
     "execution_count": 17,
     "metadata": {},
     "output_type": "execute_result"
    }
   ],
   "source": [
    "axes[0].get_ylim()"
   ]
  },
  {
   "cell_type": "code",
   "execution_count": 49,
   "id": "19299ebe-131b-4569-8332-b8a1e0d51234",
   "metadata": {
    "scrolled": true
   },
   "outputs": [
    {
     "name": "stdout",
     "output_type": "stream",
     "text": [
      "0.0 InitialAnchor\n",
      "15.0 MOT\n",
      "15.1 MOT\n",
      "15.105 molasses\n",
      "16.105 finalRamps\n"
     ]
    }
   ],
   "source": [
    "for t, c in timeline.loc[ timeline[\"variable\"] == \"Anchor\", [\"time\", \"context\"] ].to_numpy() : #[:,0]\n",
    "    print(t,c)"
   ]
  },
  {
   "cell_type": "code",
   "execution_count": 50,
   "id": "56b0ace3-ce74-4f07-a691-fc94eaf664cf",
   "metadata": {},
   "outputs": [
    {
     "data": {
      "text/plain": [
       "{'Current': ['coil_MOTlowerPlus__A',\n",
       "  'coil_compensationX__A',\n",
       "  'coil_compensationY__A',\n",
       "  'coil_MOTupperPlus__A',\n",
       "  'coil_MOTlower__A',\n",
       "  'coil_MOTupper__A'],\n",
       " 'Frequency': ['lockbox_MOT__MHz']}"
      ]
     },
     "execution_count": 50,
     "metadata": {},
     "output_type": "execute_result"
    }
   ],
   "source": [
    "analog_variables"
   ]
  },
  {
   "cell_type": "code",
   "execution_count": 32,
   "id": "1f7b5e91-84de-4311-bfc5-be6f1b848532",
   "metadata": {},
   "outputs": [
    {
     "data": {
      "text/plain": [
       "array([-1.0, -1.0, -0.999828, ..., -0.99997, -0.999985, -1.0],\n",
       "      dtype=object)"
      ]
     },
     "execution_count": 32,
     "metadata": {},
     "output_type": "execute_result"
    }
   ],
   "source": [
    "timeline.loc[ timeline[\"variable\"] == \"coil_MOTlower__A\", [\"time\", \"value\", \"context\"] ].to_numpy()[:,1]"
   ]
  },
  {
   "cell_type": "markdown",
   "id": "693dff5a-ede9-4f5b-9959-68baac768f58",
   "metadata": {},
   "source": [
    "# Tests"
   ]
  },
  {
   "cell_type": "code",
   "execution_count": 4,
   "id": "bd1d759e-c527-4d2d-aa4f-93609963682c",
   "metadata": {
    "scrolled": true
   },
   "outputs": [],
   "source": [
    "timeline=tl.stack(\n",
    "    init(t=-2),\n",
    "    MOT(),\n",
    "    MOT_detunedGrowth(),\n",
    "    molasses(),\n",
    "    finish(),\n",
    ")\n",
    "\n",
    "#tl.display(timeline)"
   ]
  },
  {
   "cell_type": "code",
   "execution_count": null,
   "id": "dbdbf1aa-22ca-41f0-a0b6-94d3863a82da",
   "metadata": {
    "scrolled": true
   },
   "outputs": [],
   "source": [
    "timeline=tl.stack(\n",
    "    init(t=-2#,shutter_imaging=0,AOM_imaging=1,trigger_camera=0\n",
    "        ),\n",
    "    MOT(t=0.0),\n",
    "    MOT_detunedGrowth(),\n",
    "    molasses(),\n",
    "    OP()\n",
    ")\n",
    "\n",
    "tl.display(timeline,variables=[\"Anchor\",\"shutter_MOT\",\"AOM_MOT\",\"shutter_repump\",\"AOM_repump\",\n",
    "                               \"shutter_OP001\",\"shutter_OP002\",\"AOM_OP\",\"coil_MOTlower__A\",\"coil_MOTupper__A\",\"lockbox_MOT__MHz\"])"
   ]
  },
  {
   "cell_type": "markdown",
   "id": "ce73c58c-f060-496f-9559-efe7dfa7280f",
   "metadata": {},
   "source": [
    "# Imports, connections, devices, constants"
   ]
  },
  {
   "cell_type": "code",
   "execution_count": 1,
   "id": "5b9af8dc-c982-47c7-8f82-546f991bac0b",
   "metadata": {},
   "outputs": [],
   "source": [
    "import sys\n",
    "sys.path.append(\"..\")\n",
    "\n",
    "import importlib.resources as resources\n",
    "import pathlib as pl\n",
    "\n",
    "import pandas as pd\n",
    "import numpy as np\n",
    "from munch import Munch\n",
    "from wigner_time import connection as con\n",
    "from wigner_time import timeline as tl\n",
    "from wigner_time import adwin as adwin\n",
    "from wigner_time import constructor as construct\n",
    "import wigner_time\n",
    "\n",
    "from copy import deepcopy\n",
    "\n",
    "%matplotlib qt"
   ]
  },
  {
   "cell_type": "code",
   "execution_count": 2,
   "id": "5bbb705b-f90e-4c32-8bae-24a5c6862453",
   "metadata": {},
   "outputs": [],
   "source": [
    "connections = con.connection(\n",
    "    [\"shutter_MOT\", 1, 11],\n",
    "    [\"shutter_repump\", 1, 12],\n",
    "    [\"shutter_OP001\", 1, 14],\n",
    "    [\"shutter_OP002\", 1, 15],\n",
    "    [\"AOM_MOT\", 1, 1],\n",
    "    [\"AOM_repump\", 1, 2],\n",
    "    [\"AOM_OP_aux\", 1, 30],  # should be set to 0 always\n",
    "    [\"AOM_OP\", 1, 31],\n",
    "    [\"coil_compensationX__A\", 4, 7],\n",
    "    [\"coil_compensationY__A\", 3, 2],\n",
    "    [\"coil_MOTlower__A\", 4, 1],\n",
    "    [\"coil_MOTupper__A\", 4, 3],\n",
    "    [\"coil_MOTlowerPlus__A\", 4, 2],\n",
    "    [\"coil_MOTupperPlus__A\", 4, 4],\n",
    "    [\"lockbox_MOT__MHz\", 3, 8],\n",
    ")\n",
    "\n",
    "devices = pd.DataFrame(\n",
    "    columns=[\"variable\", \"unit_range\", \"safety_range\"],\n",
    "    data=[\n",
    "        [\"coil_compensationX__A\", (-3, 3), (-3, 3)],\n",
    "        [\"coil_compensationY__A\", (-3, 3), (-3, 3)],\n",
    "        [\"coil_MOTlower__A\", (-5, 5), (-5, 5)],\n",
    "        [\"coil_MOTupper__A\", (-5, 5), (-5, 5)],\n",
    "        [\"coil_MOTlowerPlus__A\", (-5, 5), (-5, 5)],\n",
    "        [\"coil_MOTupperPlus__A\", (-5, 5), (-5, 5)],\n",
    "        #[\"lockbox_MOT__V\", (-10, 10)],\n",
    "        [\"lockbox_MOT__MHz\", (-200, 200)],\n",
    "    ],\n",
    ")\n",
    "\n",
    "# I dislike global variables but, unfortunately, a reference will probably still need to be available in the same namespace as these functions for convenience.\n",
    "constants = Munch(\n",
    "    safety_factor=1.1,\n",
    "#    factor__VpMHz=0.05,\n",
    "    lag_MOTshutter=2.48e-3,\n",
    "    Compensation=Munch(\n",
    "        Z__A=-0.1,\n",
    "        Y__A=1.5,\n",
    "        X__A=0.25,\n",
    "    ),\n",
    "    OP=Munch(\n",
    "        lag_AOM_on=15e-6,\n",
    "        lag_shutter_on=1.5e-3,\n",
    "        lag_shutter_off=1.5e-3,\n",
    "        duration_shutter_on=140e-6,\n",
    "        duration_shutter_off=600e-6,\n",
    "    ),\n",
    "    AI=Munch(\n",
    "        lag_shutter_on=2.2e-3,\n",
    "        lag_shutter_off=1.9e-3,\n",
    "    )\n",
    ")\n"
   ]
  },
  {
   "cell_type": "markdown",
   "id": "b6d6fa66-6821-4018-9911-4ae925de5eaf",
   "metadata": {},
   "source": [
    "# Fundamental sample preparation functions"
   ]
  },
  {
   "cell_type": "markdown",
   "id": "d82c5dd7-856a-45ab-be55-b274ef7745c9",
   "metadata": {},
   "source": [
    "## Magnetic trapping"
   ]
  },
  {
   "cell_type": "code",
   "execution_count": 60,
   "id": "e461042c-3755-466b-b2dd-c4c700e17b6f",
   "metadata": {
    "scrolled": true
   },
   "outputs": [],
   "source": [
    "def OP(durationExposition=80e-6, durationCoilRamp=50e-6, i=-0.12, pt=3, **kwargs) :\n",
    "    fullDuration=durationExposition+durationCoilRamp\n",
    "    return tl.stack(\n",
    "        tl.ramp(\n",
    "            coil_MOTlower__A= i,\n",
    "            coil_MOTupper__A=-i,\n",
    "            duration=durationCoilRamp,\n",
    "            fargs={\"ti\": pt},\n",
    "            context=\"OP\",**kwargs\n",
    "        ),\n",
    "        tl.set(\"AOM_OP\",[[-0.1,0],[durationCoilRamp,1],[fullDuration,0]]),\n",
    "        tl.set(\"shutter_OP001\",[[durationCoilRamp-constants.OP.lag_shutter_on,1],[0.1,0]]),\n",
    "        tl.set(\"shutter_OP002\",[[fullDuration-constants.OP.lag_shutter_off,0],[0.1,1]]),\n",
    "        tl.set(AOM_repump=0,shutter_repump=0,t=fullDuration),\n",
    "        tl.anchor(fullDuration,context=\"OP\")\n",
    "        #     # I switch off the AOM close before opening the first shutter, but safely enough, not to flash too soon\n",
    "        #     [\n",
    "        #         \"shutter_OP001\",\n",
    "        #         [ time - constants.OP.lag_aom_on - constants.safety_factor * (constants.OP.lag_shutter_on + constants.OP.duration_shutter_on), 1 ],\n",
    "        #     ],\n",
    "        #     [\n",
    "        #         \"AOM_OP\",\n",
    "        #         [time - constants.OP.lag_aom_on + 9.5e-6, 1], #TODO: what is this constant?????\n",
    "        #     ],\n",
    "        #     [\n",
    "        #         \"shutter_OP002\",\n",
    "        #         [ time + duration_exposure - (2 - constants.safety_factor) * constants.OP.lag_shutter_off, 0 ],\n",
    "        #     ],\n",
    "        #     [\"AOM_OP\", [ time+duration_exposure + 0.5e-6, 0 ] ], # TODO: another mysterious constant\n",
    "        #     [\"AOM_repump\", [ time+duration_exposure, 0 ] ],\n",
    "        #     [\"shutter_repump\", [ time+duration_exposure, 0 ] ],\n",
    "        #     # Shutters switched back, to reinitialize them before any additional optical pumpings later.\n",
    "        #     [\"shutter_OP001\", [ time+duration_exposure, 0 ] ],\n",
    "        #     [\"shutter_OP002\", [ time+duration_exposure + constants.safety_factor * (constants.OP.lag_shutter_on+constants.OP.duration_shutter_on), 1 ] ],\n",
    "        #     context=context,\n",
    "        #     timeline=tline,\n",
    "        )\n",
    "\n",
    "\n",
    "def pull_coils(duration, l, u, lp=-constants.Compensation.Z__A, up=constants.Compensation.Z__A, pt = 3, **kwargs) :\n",
    "    return tl.ramp(\n",
    "        coil_MOTlower__A=l,\n",
    "        coil_MOTupper__A=u,\n",
    "        coil_MOTlowerPlus__A=lp,\n",
    "        coil_MOTupperPlus__A=up,\n",
    "        fargs={\"ti\": pt},\n",
    "        duration=duration,\n",
    "        **kwargs,\n",
    "    )\n",
    "\n",
    "def magneticTrapping(durationInitial=50e-6, li=-1.8, ui=-1.7, durationStrengthen=3e-3, ls=-4.8, us=-4.7, **kwargs) :\n",
    "    return tl.stack(\n",
    "        pull_coils(durationInitial,li,ui,context=\"magneticTrapping\",**kwargs),\n",
    "        pull_coils(durationStrengthen,ls,us,t=durationInitial),\n",
    "        tl.anchor(durationInitial+durationStrengthen,context=\"magneticTrapping\")\n",
    "    )"
   ]
  },
  {
   "cell_type": "markdown",
   "id": "9e3be4ee-1e46-441f-bbd1-1e56933b9d06",
   "metadata": {},
   "source": [
    "## Cloud collection & cooling"
   ]
  },
  {
   "cell_type": "code",
   "execution_count": null,
   "id": "522a924c-4871-437f-95d2-76e8657bd100",
   "metadata": {
    "scrolled": true
   },
   "outputs": [],
   "source": [
    "def init(**kwargs) :\n",
    "    \"\"\"\n",
    "    Creates an experimental timeline for the initialization of every device.\n",
    "    \"\"\"\n",
    "    return tl.stack(\n",
    "        tl.create(\n",
    "            lockbox_MOT__MHz=0.0,\n",
    "            coil_compensationX__A= constants.Compensation.X__A,\n",
    "            coil_compensationY__A= constants.Compensation.Y__A,\n",
    "            coil_MOTlowerPlus__A = -constants.Compensation.Z__A,\n",
    "            coil_MOTupperPlus__A =  constants.Compensation.Z__A,\n",
    "            AOM_MOT = 1,\n",
    "            AOM_repump = 1,\n",
    "            AOM_OP_aux = 0, # TODO: USB-controlled AOMs should be treated on a higher level\n",
    "            AOM_OP = 1,\n",
    "            shutter_MOT = 0,\n",
    "            shutter_repump = 0,\n",
    "            shutter_OP001 = 0,\n",
    "            shutter_OP002 = 1,\n",
    "            context=\"ADwin_LowInit\",\n",
    "            **kwargs\n",
    "        ),\n",
    "        tl.anchor(t=0.0,relative={\"time\" : False},context=\"InitialAnchor\")\n",
    "    )\n",
    "\n",
    "\n",
    "def finish(wait=1, lA=-1., uA=-0.98, MOT_ON=True, **kwargs) :\n",
    "    duration=1e-2\n",
    "    return tl.stack(\n",
    "        tl.anchor(wait,context=\"finalRamps\"),\n",
    "        tl.ramp(\n",
    "            lockbox_MOT__MHz=0.0,\n",
    "            coil_MOTlower__A = lA,\n",
    "            coil_MOTupper__A = uA,\n",
    "            coil_compensationX__A= constants.Compensation.X__A,\n",
    "            coil_compensationY__A= constants.Compensation.Y__A,\n",
    "            coil_MOTlowerPlus__A = -constants.Compensation.Z__A,\n",
    "            coil_MOTupperPlus__A =  constants.Compensation.Z__A,\n",
    "            duration=duration,\n",
    "            context=\"finalRamps\"\n",
    "        ),\n",
    "        tl.set(\n",
    "            AOM_MOT = 1,\n",
    "            AOM_repump = 1,\n",
    "            AOM_OP_aux = 0, # TODO: USB-controlled AOMs should be treated on a higher level\n",
    "            AOM_OP = 1,\n",
    "            shutter_MOT = int(MOT_ON),\n",
    "            shutter_repump = int(MOT_ON),\n",
    "            shutter_OP001 = 0,\n",
    "            shutter_OP002 = 1,\n",
    "            t=0.1,\n",
    "            context=\"ADwin_Finish\",\n",
    "            **kwargs\n",
    "        )\n",
    "    )\n",
    "\n",
    "\n",
    "def MOT(duration=15, lA=-1., uA=-0.98, **kwargs) :\n",
    "    return tl.stack(\n",
    "        tl.set(\n",
    "#           waitChannel = 0,\n",
    "            shutter_MOT=1,\n",
    "            shutter_repump=1,\n",
    "            coil_MOTlower__A=lA,\n",
    "            coil_MOTupper__A=uA,\n",
    "            context='MOT',\n",
    "            **kwargs\n",
    "        ),\n",
    "        tl.anchor(duration)\n",
    "    )\n",
    "\n",
    "\n",
    "def MOT_detunedGrowth(duration=100e-3, durationRamp=10e-3, toMHz=-5, pt=3, **kwargs) :\n",
    "    return tl.stack(\n",
    "        tl.ramp(\n",
    "            lockbox_MOT__MHz=toMHz,\n",
    "            duration=durationRamp,\n",
    "            fargs={\"ti\": pt},\n",
    "            context='MOT',\n",
    "            **kwargs\n",
    "        ),\n",
    "        tl.anchor(duration)\n",
    "    )\n",
    "\n",
    "\n",
    "def molasses(duration=5e-3, durationCoilRamp=9e-4, durationLockboxRamp=1e-3, toMHz=-90, coil_pt=3, lockbox_pt=3, **kwargs) :\n",
    "\n",
    "    return tl.stack(\n",
    "        tl.ramp(\n",
    "            coil_MOTlower__A=0,\n",
    "            coil_MOTupper__A=0, # TODO: can these be other than 0 (e.g. for more perfect compensaton?)\n",
    "            duration=durationCoilRamp,\n",
    "            fargs={\"ti\": coil_pt},\n",
    "            context=\"molasses\",\n",
    "            **kwargs\n",
    "        ),\n",
    "        tl.ramp(\n",
    "            lockbox_MOT__MHz=toMHz,\n",
    "            duration=durationLockboxRamp,\n",
    "            fargs={\"ti\": lockbox_pt},\n",
    "        ),\n",
    "        tl.set(\n",
    "            shutter_MOT=[duration - constants.lag_MOTshutter,0],\n",
    "            AOM_MOT=[duration,0]\n",
    "        ),\n",
    "        tl.anchor(duration,context=\"molasses\")\n",
    "        \n",
    "    )"
   ]
  },
  {
   "cell_type": "markdown",
   "id": "dc40b4eb-f9cd-4449-9066-30da445270a8",
   "metadata": {},
   "source": [
    "# Absorption imaging"
   ]
  },
  {
   "cell_type": "code",
   "execution_count": null,
   "id": "824efe39-9e42-4140-a567-edeb6a5122e8",
   "metadata": {},
   "outputs": [],
   "source": [
    "connections=pd.concat([connections,con.connection([\"shutter_imaging\", 1, 13],[\"AOM_imaging\", 1, 5],[\"trigger_camera\", 1, 0])])"
   ]
  },
  {
   "cell_type": "code",
   "execution_count": null,
   "id": "df7fbb74-a0cc-473c-9eb1-b5245902cf96",
   "metadata": {},
   "outputs": [],
   "source": [
    "def trigger_camera(time, exposure, **kwargs) :\n",
    "    return tl.set(\n",
    "        [\"trigger_camera\",[time,1]],\n",
    "        [\"trigger_camera\",[time+exposure,0]],\n",
    "        **kwargs)\n",
    "\n",
    "def flash_light(time, exposure, **kwargs) :\n",
    "    sf = constants.safety_factor\n",
    "    return tl.stack(\n",
    "        tl.set(\n",
    "            [\"AOM_imaging\",[time,1]],\n",
    "            [\"AOM_imaging\",[time+exposure,0]],\n",
    "            **kwargs),\n",
    "        tl.set(\n",
    "            [\"shutter_imaging\",[time-exposure*(sf-1)-constants.AI.lag_shutter_on,1]],\n",
    "            [\"shutter_imaging\",[time+exposure*sf,0]]), # TODO: what to write here exactly?\n",
    "    )\n",
    "\n",
    "def expose_camera(time, exposure, **kwargs) :\n",
    "    sf = constants.safety_factor\n",
    "    return tl.stack(\n",
    "        flash_light(time,exposure,**kwargs),\n",
    "        trigger_camera(time-exposure*(sf-1)/2, exposure*sf)\n",
    "    )\n",
    "\n",
    "def take_image_plus_Bg(time, exposure, delayBg, **kwargs) :\n",
    "    return tl.stack(\n",
    "        expose_camera(time, exposure, **kwargs), # taking At image\n",
    "        trigger_camera(time+delayBg, exposure*constants.safety_factor), # taking Bg_At image\n",
    "    )    \n",
    "\n",
    "def imaging_absorption(time, exposure, delayBg, delayLi, exposureBlow=None, **kwargs) :\n",
    "    \"\"\"\n",
    "    Creates an experimental timeline for absorption imaging.\n",
    "    \"\"\"\n",
    "    context = \"imaging_absorption\"\n",
    "    return tl.stack(\n",
    "        tl.set(AOM_imaging=[time-constants.safety_factor*exposure,0],context=context,**kwargs), # initializing the AOM\n",
    "        take_image_plus_Bg(time, exposure, delayBg), # taking At + Bg_At image\n",
    "        flash_light(time+5*delayBg,exposureBlow) if exposureBlow is not None else None, # blow out the atoms in between\n",
    "        take_image_plus_Bg(time+delayLi, exposure, delayBg), # taking Li + Bg_Li image\n",
    "    )"
   ]
  },
  {
   "cell_type": "markdown",
   "id": "7daeaba4-be93-4efe-aadc-0c00ddf0224f",
   "metadata": {
    "jp-MarkdownHeadingCollapsed": true
   },
   "source": [
    "# Tests old"
   ]
  },
  {
   "cell_type": "markdown",
   "id": "54f46119-6039-486f-8ca9-62fac1e548cf",
   "metadata": {
    "jp-MarkdownHeadingCollapsed": true
   },
   "source": [
    "## Testing the difference between `globalRelative=True/False` in `next`"
   ]
  },
  {
   "cell_type": "code",
   "execution_count": null,
   "id": "9123beed-6b44-461f-b3ef-c9bb52395f32",
   "metadata": {},
   "outputs": [],
   "source": [
    "timeline=tl.stack(\n",
    "    init(t=-2,coil_MOTlower__A=.0,coil_MOTupper__A=.0),\n",
    "    tl.next(coil_MOTlower__A=-3.0, t=1., time_start=0., context=\"any\"),\n",
    "    tl.next(coil_MOTupper__A=-4.0, t=1.5, time_start=0.5),\n",
    "    tl.next(lockbox_MOT__MHz=-5, t=1.5, globalRelative=False)\n",
    ")"
   ]
  },
  {
   "cell_type": "code",
   "execution_count": null,
   "id": "42c79587-6d44-4289-b57e-8c1a86b14a54",
   "metadata": {},
   "outputs": [],
   "source": [
    "tl.display(timeline)#,variables=[\"coil_MOTlower__A\",\"coil_MOTupper\",\"lockbox_MOT__MHz\"])"
   ]
  },
  {
   "cell_type": "code",
   "execution_count": null,
   "id": "de480eb1-9429-4008-b4e9-122b3f387615",
   "metadata": {},
   "outputs": [],
   "source": [
    "timeline=tl.stack(\n",
    "    init(t=-2#,shutter_imaging=0,AOM_imaging=1,trigger_camera=0\n",
    "        ),\n",
    "    MOT(t=0.0),\n",
    "    MOT_detunedGrowth(),\n",
    "    tl.wait(1),\n",
    "    tl.next(\n",
    "        lockbox_MOT__MHz=0,\n",
    "        coil_MOTlower__A=-1.0,\n",
    "        coil_MOTupper__A=-0.98,\n",
    "        t=.1,\n",
    "        fargs={\"ti\": 3},context='sanitize'\n",
    "    ),\n",
    "    tl.set(AOM_MOT=1,AOM_repump=1,AOM_imaging=1)\n",
    ")"
   ]
  },
  {
   "cell_type": "code",
   "execution_count": null,
   "id": "ac3f30f1-e689-4c04-ae6c-3bb60863051c",
   "metadata": {},
   "outputs": [],
   "source": [
    "prev=tl.previous(timeline,\"coil_MOTlower__A\")\n",
    "prev.values[0]=1#[\"value\"]\n",
    "prev"
   ]
  },
  {
   "cell_type": "markdown",
   "id": "6beb951b-5b7d-492a-908c-93257b2a4c56",
   "metadata": {
    "jp-MarkdownHeadingCollapsed": true
   },
   "source": [
    "# Thomas’s solution"
   ]
  },
  {
   "cell_type": "code",
   "execution_count": null,
   "id": "9693420d-37b0-48cc-a767-ca2f363d3d00",
   "metadata": {},
   "outputs": [],
   "source": [
    "defaults = Munch()\n",
    "\n",
    "# NOTE: MOTplus coils are part of the compensation and so should default to the compensation values.\n",
    "defaults.MOT = Munch(\n",
    "    lockbox_MOT__V=0.0,\n",
    "    shutter_MOT=1, # TODO: why the shutter values here?\n",
    "    shutter_repump=1,\n",
    "    coil_MOTlower__A=-1.0,\n",
    "    coil_MOTupper__A=-0.98,\n",
    ")\n",
    "\n",
    "defaults.molasses = Munch(\n",
    "    duration_cooling=5e-3,\n",
    "    duration_ramp=1e-3,\n",
    "    shift__MHz=-80,\n",
    "    fraction_ramp_duration=0.9,\n",
    "    coil_MOTlower__A=0.0,\n",
    "    coil_MOTupper__A=0.0,\n",
    ")\n",
    "\n",
    "defaults.magnetic = Munch(\n",
    "    delay=1e-3,\n",
    "    quadrupole=Munch(duration_ramp=50e-6, coil_MOTlower__A=-1.8, coil_MOTupper__A=-1.7),\n",
    "    strong=Munch(duration_ramp=3e-3, coil_MOTlower__A=-4.8, coil_MOTupper__A=-4.7),\n",
    ")\n",
    "\n",
    "defaults.finish = Munch(set={}, ramp={})\n",
    "defaults.finish.set = Munch(\n",
    "    AOM_MOT=1,\n",
    "    AOM_repump=1,\n",
    "    AOM_repump__V=5,\n",
    "    AOM_imaging=1,\n",
    "    AOM_OP_aux=0,\n",
    "    AOM_OP=1,\n",
    "    AOM_science=1,\n",
    "    AOM_science__V=0.0,\n",
    "    AOM_ref=1,\n",
    "    shutter_MOT=1,\n",
    "    shutter_repump=1,\n",
    "    shutter_imaging=0,\n",
    "    shutter_OP001=0,\n",
    "    shutter_OP002=1,\n",
    "    shutter_science=1,\n",
    "    shutter_transversePump=0,\n",
    "    shutter_coupling=0,\n",
    "    trigger_TC__V=0,\n",
    "    photodiode__V=0,\n",
    ")\n",
    "defaults.finish.ramp = Munch(\n",
    "    coil_MOTlower__A=0.0,\n",
    "    coil_MOTupper__A=0.0,\n",
    "    coil_MOTlowerPlus__A=-constants.Bfield_compensation_Z__A,\n",
    "    coil_MOTupperPlus__A=constants.Bfield_compensation_Z__A,\n",
    "    coil_compensationX__A=constants.Bfield_compensation_X__A,\n",
    "    coil_compensationY__A=constants.Bfield_compensation_Y__A,\n",
    "    lockbox_MOT__V=lock_box.to_V(0.0),\n",
    ")"
   ]
  },
  {
   "cell_type": "code",
   "execution_count": null,
   "id": "ec67871a-8d50-424e-b749-28eee155106e",
   "metadata": {},
   "outputs": [],
   "source": [
    "def init():\n",
    "    \"\"\"\n",
    "    Creates an experimental timeline for the initialization of every relevant variable.\n",
    "    \"\"\"\n",
    "    return tl.create(\n",
    "        lockbox_MOT__V=0.0,\n",
    "        coil_compensationX__A=constants.Bfield_compensation_X__A,\n",
    "        coil_compensationY__A=constants.Bfield_compensation_Y__A,\n",
    "        coil_MOTlowerPlus__A=-constants.Bfield_compensation_Z__A,\n",
    "        coil_MOTupperPlus__A=constants.Bfield_compensation_Z__A,\n",
    "        AOM_MOT=1,\n",
    "        AOM_repump=1,\n",
    "        AOM_OP_aux=0,\n",
    "        AOM_OP=1,\n",
    "        shutter_MOT=0,\n",
    "        shutter_repump=0,\n",
    "        shutter_OP001=0,\n",
    "        shutter_OP002=1,\n",
    "        context=\"ADwin_LowInit\",\n",
    "    )\n",
    "\n",
    "def MOT(\n",
    "    detuning__MHz=-5,\n",
    "    duration=10.0,\n",
    "    durationFinal=1.0,\n",
    "    # ===\n",
    "    time_start=None,\n",
    "    variables: Munch | None = None,\n",
    "    variables_default=defaults.MOT,\n",
    "    timeline=init(),\n",
    "    context=\"MOT\",\n",
    "):\n",
    "    \"\"\"\n",
    "    Creates a Magneto-Optical Trap.\n",
    "\n",
    "    \"\"\"\n",
    "    _time_start, _variables = construct.time_and_arguments(\n",
    "        time_start, variables, variables_default, timeline\n",
    "    )\n",
    "\n",
    "    return tl.update(\n",
    "        tl.create(\n",
    "            shutter_MOT=_variables.shutter_MOT,\n",
    "            shutter_repump=_variables.shutter_repump,\n",
    "            coil_MOTlower__A=_variables.coil_MOTlower__A,\n",
    "            coil_MOTupper__A=_variables.coil_MOTupper__A,\n",
    "            # ===\n",
    "            timeline=timeline,\n",
    "            context=context,\n",
    "        ),\n",
    "        tl.next(\n",
    "            lockbox_MOT__V=lock_box.to_V(detuning__MHz), t=durationFinal, time_start=duration-durationFinal, context=\"MOT_grow\"\n",
    "        ),\n",
    "    )\n",
    "\n",
    "\n",
    "def molasses(\n",
    "    duration_cooling=5e-3,\n",
    "    duration_ramp=1e-3,\n",
    "    detuning__MHz=-80,\n",
    "    # ===\n",
    "    # Specific values above ↑\n",
    "    # Repeated values below ↓\n",
    "    # ===\n",
    "    time_start=None,\n",
    "    variables: Munch | None = None,\n",
    "    variables_default=defaults.molasses,\n",
    "    timeline=MOT(),\n",
    "    context=\"molasses\",\n",
    "):\n",
    "    _time_start, _variables = construct.time_and_arguments(\n",
    "        time_start, variables, variables_default, timeline\n",
    "    )\n",
    "\n",
    "    if duration_ramp >= duration_cooling:\n",
    "        raise ValueError(\"duration_ramp should be smaller than duration_cooling!\")\n",
    "\n",
    "    return tl.update(\n",
    "        tl.create(\n",
    "            AOM_MOT=[_time_start + duration_cooling, 0],\n",
    "            shutter_MOT=[_time_start + duration_cooling - constants.lag_MOTshutter, 0],\n",
    "            timeline=timeline,\n",
    "            context=context,\n",
    "        ),\n",
    "        tl.next(\n",
    "            coil_MOTlower__A=_variables.coil_MOTlower__A,\n",
    "            coil_MOTupper__A=_variables.coil_MOTupper__A,\n",
    "            t=duration_ramp,\n",
    "        ),\n",
    "        tl.next(lockbox_MOT__V=lock_box.to_V(detuning__MHz), t=duration_ramp),\n",
    "    )"
   ]
  },
  {
   "cell_type": "code",
   "execution_count": null,
   "id": "19e8a4f9-7a20-4eed-94b8-d31ee2a14073",
   "metadata": {},
   "outputs": [],
   "source": [
    "init()"
   ]
  },
  {
   "cell_type": "code",
   "execution_count": null,
   "id": "37e758b3-2237-46a3-8638-5b75b6f58f04",
   "metadata": {
    "scrolled": true
   },
   "outputs": [],
   "source": [
    "tl.display(molasses(timeline=MOT(variables={\"coil_MOTlower__A\":-.5})))"
   ]
  },
  {
   "cell_type": "markdown",
   "id": "6f279fc6-9407-4338-867e-f18a1c8093c3",
   "metadata": {
    "jp-MarkdownHeadingCollapsed": true
   },
   "source": [
    "# Params layer"
   ]
  },
  {
   "cell_type": "code",
   "execution_count": null,
   "id": "7561ded1",
   "metadata": {},
   "outputs": [],
   "source": [
    "params_default = Munch(\n",
    "    MOT=Munch(\n",
    "        duration_grow=15.0,\n",
    "        duration_final=100e-3, # should be smaller than duration_grow\n",
    "        shift__MHz=-5.0,\n",
    "        duration_ramp=10e-3,\n",
    "        coil_lower__A=-1,\n",
    "        coil_upper__A=-0.98, # TODO why the asymmetry? this was probably part of magnetic compensation\n",
    "    ),\n",
    "    molasses=Munch(\n",
    "        duration_cooling=5e-3,\n",
    "        duration_ramp=1e-3, # should be smaller than duration_cooling\n",
    "        shift__MHz=-80,\n",
    "        fraction_ramp_duration=0.9,\n",
    "        ),\n",
    "    OP=Munch(\n",
    "        duration_exposure=80e-6,\n",
    "        duration_ramp_coils_dipole=500e-6,\n",
    "        homogeneous_field__A=-0.12,\n",
    "    ),\n",
    "    trapping_magnetic=Munch(\n",
    "        delay_magnetic_trap=1e-3,\n",
    "        duration_ramp_coils_quadrupole=50e-6,\n",
    "        duration_ramp_coils_strengthen=3e-3,\n",
    "        lowerMOT_quadrupole__A=-1.8,\n",
    "        upperMOT_quadrupole__A=-1.7, # TODO why the asymmetry? this was probably part of magnetic compensation\n",
    "        lowerMOT_strengthen__A=-4.8,\n",
    "        upperMOT_strengthen__A=-4.7, # TODO why the asymmetry? this was probably part of magnetic compensation\n",
    "    ),\n",
    "    transport_magnetic=Munch(\n",
    "        delay=5e-3,\n",
    "        duration=150e-3,\n",
    "        lowerMOT__A=-0.3121632,\n",
    "        upperMOT__A=-4.748368,\n",
    "        lowerMOTPlus__A=-4.648368,\n",
    "        upperMOTPlus__A=-4.748368,\n",
    "        parameter_tanh=2.25,\n",
    "    ),\n",
    "    finish=Munch(\n",
    "        duration_until_finish = 0,\n",
    "        duration_ramp = 1e-3,\n",
    "        lockbox_initial__V = 0,\n",
    "    )\n",
    ")"
   ]
  },
  {
   "cell_type": "code",
   "execution_count": null,
   "id": "b6c1dd61",
   "metadata": {},
   "outputs": [],
   "source": [
    "def init():\n",
    "    return preparation_functions.init()\n",
    "\n",
    "def MOT(tline, time, params,context=\"\"):\n",
    "    tline = preparation_functions.MOT(tline, time, params.MOT.lowerMOT__A, params.MOT.upperMOT__A)\n",
    "    tline = preparation_functions.MOT_detunedGrowth(tline, time+params.MOT.duration_grow-params.MOT.duration_final, params.MOT.duration_ramp, \n",
    "                                             params.MOT.shift__MHz,pt=3)\n",
    "    return tline, time+params.MOT.duration_grow\n",
    "\n",
    "def molasses(tline, time, params):\n",
    "    tline = preparation_functions.molasses(tline, time, params.molasses.duration_cooling, params.molasses.duration_ramp, params.molasses.duration_ramp, \n",
    "                                            params.molasses.shift__MHz)\n",
    "    return tline, time+params.molasses.duration_cooling\n",
    "\n",
    "def OP(tline, time, params):\n",
    "    #def OP(tline, time, duration_exposure, duration_ramp_coils_dipole, duration_shutter_on, homogenous_field__A,coil_parameter_tanh=3):\n",
    "    tline = preparation_functions.OP(tline, time, params.OP.duration_exposure, params.OP.duration_ramp_coils_dipole, params.OP.homogenous_field__A)\n",
    "    return tline, time+params.OP.duration_exposure\n",
    "\n",
    "def magnetic_field(tline, time, params):\n",
    "    tline = preparation_functions.pull_coils(tline, time, params.trapping_magnetic.duration_ramp_coils_quadrupole, params.trapping_magnetic.lowerMOT_quadrupole__A,\n",
    "                                                    params.trapping_magnetic.upperMOT_quadrupole__A,context=\"trapping_magnetic\")\n",
    "    time = time+params.trapping_magnetic.duration_ramp_coils_quadrupole\n",
    "    tline = preparation_functions.pull_coils(tline, time, params.trapping_magnetic.duration_ramp_coils_strengthen, params.trapping_magnetic.lowerMOT_strengthen__A,\n",
    "                                             params.trapping_magnetic.upperMOT_strengthen__A,context=\"trapping_magnetic\")\n",
    "    return tline, time+params.trapping_magnetic.duration_ramp_coils_strengthen\n",
    "\n",
    "def transport_magnetic(tline, time, params):\n",
    "    tline = preparation_functions.pull_coils(tline, time, params.transport_magnetic.duration, params.transport_magnetic.lowerMOT__A,\n",
    "                                            params.transport_magnetic.upperMOT__A,params.transport_magnetic.lowerMOTPlus__A,params.transport_magnetic.upperMOTPlus__A,\n",
    "                                            context = \"magnetic_transport\")\n",
    "    return tline, time+params.transport_magnetic.duration\n",
    "\n",
    "def switch_off_trap_magnetic(tline, time, params):\n",
    "    tline = preparation_functions.pull_coils(tline, time, params.switch_off_trap_magnetic.duration, 0,0)\n",
    "    return tline, time+params.switch_off_trap_magnetic.duration\n",
    "\n",
    "#parameter??\n",
    "def transport_back_magnetic(tline, time, params):\n",
    "    tline = preparation_functions.transport_back_magnetic(tline, time, params.transport_back_magnetic.duration, params.transport_back_magnetic.lowerMOT_strengthen__A, params.transport_back_magnetic.upperMOT_strengthen__A)\n",
    "    return tline, time+params.transport_back_magnetic.duration\n",
    "\n",
    "def finish(tline, time, params):\n",
    "    return preparation_functions.finish(tline, time, params.finish.duration_ramp, params.finish.lockbox_initial__V, params.finish.science_AOM__V, params.finish.coil_lowerMOT__A, params.finish.coil_upperMOT__A)"
   ]
  },
  {
   "cell_type": "code",
   "execution_count": null,
   "id": "b3db2391",
   "metadata": {},
   "outputs": [],
   "source": [
    "def prepare_atoms(params):\n",
    "    tline = init()\n",
    "    tline,timeMOT = MOT(tline, 0, params)\n",
    "    tline,timemolasses = molasses( *MOT(tline, 0, params), params)\n",
    "    tline,timeOP = OP(tline, timemolasses, params)\n",
    "    tline,timeTrapping = magnetic_field(tline, timeOP+params.trapping_magnetic.delay_magnetic_trap, params)\n",
    "    tline = finish(tline, timeTrapping, params)\n",
    "    return tline"
   ]
  },
  {
   "cell_type": "code",
   "execution_count": null,
   "id": "50a7df54",
   "metadata": {},
   "outputs": [],
   "source": [
    "params=deepcopy(params_default)\n",
    "params.finish.duration_until_finish = 500e-3\n",
    "\n",
    "tline = prepare_atoms(params)"
   ]
  },
  {
   "cell_type": "code",
   "execution_count": null,
   "id": "58ed555e-9dbf-440d-b900-7af8a09c30a8",
   "metadata": {},
   "outputs": [],
   "source": [
    "%matplotlib qt\n",
    "tl.display(tline,variables=['lockbox_MOT__V','AOM_MOT','AOM_repump','shutter_repump','AOM_repump__V'],xlim=[15,15.05])"
   ]
  },
  {
   "cell_type": "code",
   "execution_count": null,
   "id": "80856a95-fa1e-44d0-a99c-e8d482334e08",
   "metadata": {},
   "outputs": [],
   "source": []
  }
 ],
 "metadata": {
  "kernelspec": {
   "display_name": "Python 3 (ipykernel)",
   "language": "python",
   "name": "python3"
  },
  "language_info": {
   "codemirror_mode": {
    "name": "ipython",
    "version": 3
   },
   "file_extension": ".py",
   "mimetype": "text/x-python",
   "name": "python",
   "nbconvert_exporter": "python",
   "pygments_lexer": "ipython3",
   "version": "3.12.7"
  }
 },
 "nbformat": 4,
 "nbformat_minor": 5
}
